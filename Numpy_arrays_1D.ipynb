{
 "cells": [
  {
   "cell_type": "code",
   "execution_count": 1,
   "metadata": {
    "collapsed": true
   },
   "outputs": [],
   "source": [
    "import numpy as np\n",
    "import pandas as pd"
   ]
  },
  {
   "cell_type": "code",
   "execution_count": 5,
   "metadata": {
    "collapsed": false
   },
   "outputs": [],
   "source": [
    "countries = np.array(['Afghanistan', 'Albania', 'Algeria', 'Angola', 'Argentina',\n",
    "    'Armenia', 'Australia', 'Austria', 'Azerbaijan', 'Bahamas',\n",
    "    'Bahrain', 'Bangladesh', 'Barbados', 'Belarus', 'Belgium',\n",
    "    'Belize', 'Benin', 'Bhutan', 'Bolivia',\n",
    "    'Bosnia and Herzegovina'])"
   ]
  },
  {
   "cell_type": "code",
   "execution_count": 6,
   "metadata": {
    "collapsed": true
   },
   "outputs": [],
   "source": [
    "employment = np.array([ 55.70000076,  51.40000153,  50.5       ,  75.69999695,\n",
    "    58.40000153,  40.09999847,  61.5       ,  57.09999847,\n",
    "    60.90000153,  66.59999847,  60.40000153,  68.09999847,\n",
    "    66.90000153,  53.40000153,  48.59999847,  56.79999924,\n",
    "    71.59999847,  58.40000153,  70.40000153,  41.20000076])"
   ]
  },
  {
   "cell_type": "code",
   "execution_count": 7,
   "metadata": {
    "collapsed": false
   },
   "outputs": [
    {
     "data": {
      "text/plain": [
       "'Afghanistan'"
      ]
     },
     "execution_count": 7,
     "metadata": {},
     "output_type": "execute_result"
    }
   ],
   "source": [
    "countries[0]"
   ]
  },
  {
   "cell_type": "code",
   "execution_count": 8,
   "metadata": {
    "collapsed": false
   },
   "outputs": [
    {
     "data": {
      "text/plain": [
       "'Angola'"
      ]
     },
     "execution_count": 8,
     "metadata": {},
     "output_type": "execute_result"
    }
   ],
   "source": [
    "countries[3]"
   ]
  },
  {
   "cell_type": "code",
   "execution_count": 9,
   "metadata": {
    "collapsed": false
   },
   "outputs": [
    {
     "data": {
      "text/plain": [
       "array(['Afghanistan', 'Albania', 'Algeria'], \n",
       "      dtype='|S22')"
      ]
     },
     "execution_count": 9,
     "metadata": {},
     "output_type": "execute_result"
    }
   ],
   "source": [
    "countries[0:3]"
   ]
  },
  {
   "cell_type": "code",
   "execution_count": 10,
   "metadata": {
    "collapsed": false
   },
   "outputs": [
    {
     "data": {
      "text/plain": [
       "array(['Afghanistan', 'Albania', 'Algeria'], \n",
       "      dtype='|S22')"
      ]
     },
     "execution_count": 10,
     "metadata": {},
     "output_type": "execute_result"
    }
   ],
   "source": [
    "countries[:3]"
   ]
  },
  {
   "cell_type": "code",
   "execution_count": 11,
   "metadata": {
    "collapsed": false
   },
   "outputs": [
    {
     "data": {
      "text/plain": [
       "array(['Bhutan', 'Bolivia', 'Bosnia and Herzegovina'], \n",
       "      dtype='|S22')"
      ]
     },
     "execution_count": 11,
     "metadata": {},
     "output_type": "execute_result"
    }
   ],
   "source": [
    "countries[17:]"
   ]
  },
  {
   "cell_type": "code",
   "execution_count": 13,
   "metadata": {
    "collapsed": false
   },
   "outputs": [
    {
     "data": {
      "text/plain": [
       "array(['Afghanistan', 'Albania', 'Algeria', 'Angola', 'Argentina',\n",
       "       'Armenia', 'Australia', 'Austria', 'Azerbaijan', 'Bahamas',\n",
       "       'Bahrain', 'Bangladesh', 'Barbados', 'Belarus', 'Belgium', 'Belize',\n",
       "       'Benin', 'Bhutan', 'Bolivia', 'Bosnia and Herzegovina'], \n",
       "      dtype='|S22')"
      ]
     },
     "execution_count": 13,
     "metadata": {},
     "output_type": "execute_result"
    }
   ],
   "source": [
    "countries[:]"
   ]
  },
  {
   "cell_type": "code",
   "execution_count": 18,
   "metadata": {
    "collapsed": false
   },
   "outputs": [
    {
     "data": {
      "text/plain": [
       "array(['Albania', 'Angola', 'Armenia', 'Austria', 'Bahamas', 'Bangladesh',\n",
       "       'Belarus', 'Belize', 'Bhutan', 'Bosnia and Herzegovina'], \n",
       "      dtype='|S22')"
      ]
     },
     "execution_count": 18,
     "metadata": {},
     "output_type": "execute_result"
    }
   ],
   "source": [
    "countries[1::2]"
   ]
  },
  {
   "cell_type": "code",
   "execution_count": 19,
   "metadata": {
    "collapsed": false
   },
   "outputs": [
    {
     "data": {
      "text/plain": [
       "array(['Afghanistan', 'Algeria', 'Argentina', 'Australia', 'Azerbaijan',\n",
       "       'Bahrain', 'Barbados', 'Belgium', 'Benin', 'Bolivia'], \n",
       "      dtype='|S22')"
      ]
     },
     "execution_count": 19,
     "metadata": {},
     "output_type": "execute_result"
    }
   ],
   "source": [
    "countries[0::2]"
   ]
  },
  {
   "cell_type": "code",
   "execution_count": 20,
   "metadata": {
    "collapsed": false
   },
   "outputs": [
    {
     "data": {
      "text/plain": [
       "dtype('S22')"
      ]
     },
     "execution_count": 20,
     "metadata": {},
     "output_type": "execute_result"
    }
   ],
   "source": [
    "countries.dtype"
   ]
  },
  {
   "cell_type": "code",
   "execution_count": 21,
   "metadata": {
    "collapsed": false
   },
   "outputs": [
    {
     "data": {
      "text/plain": [
       "dtype('float64')"
      ]
     },
     "execution_count": 21,
     "metadata": {},
     "output_type": "execute_result"
    }
   ],
   "source": [
    "employment.dtype"
   ]
  },
  {
   "cell_type": "code",
   "execution_count": 22,
   "metadata": {
    "collapsed": false
   },
   "outputs": [
    {
     "data": {
      "text/plain": [
       "dtype('int32')"
      ]
     },
     "execution_count": 22,
     "metadata": {},
     "output_type": "execute_result"
    }
   ],
   "source": [
    "np.array([0,1,2,3]).dtype"
   ]
  },
  {
   "cell_type": "code",
   "execution_count": 23,
   "metadata": {
    "collapsed": false
   },
   "outputs": [
    {
     "data": {
      "text/plain": [
       "dtype('float64')"
      ]
     },
     "execution_count": 23,
     "metadata": {},
     "output_type": "execute_result"
    }
   ],
   "source": [
    "np.array([1.0, 1.5, 2.0, 2.5]).dtype"
   ]
  },
  {
   "cell_type": "code",
   "execution_count": 24,
   "metadata": {
    "collapsed": false
   },
   "outputs": [
    {
     "data": {
      "text/plain": [
       "dtype('bool')"
      ]
     },
     "execution_count": 24,
     "metadata": {},
     "output_type": "execute_result"
    }
   ],
   "source": [
    "np.array([True, False, True]).dtype"
   ]
  },
  {
   "cell_type": "code",
   "execution_count": 25,
   "metadata": {
    "collapsed": false
   },
   "outputs": [
    {
     "data": {
      "text/plain": [
       "dtype('S2')"
      ]
     },
     "execution_count": 25,
     "metadata": {},
     "output_type": "execute_result"
    }
   ],
   "source": [
    "np.array(['AL', 'AK', 'AZ', 'AR', 'CA']).dtype"
   ]
  },
  {
   "cell_type": "markdown",
   "metadata": {},
   "source": [
    "## Loop"
   ]
  },
  {
   "cell_type": "code",
   "execution_count": 26,
   "metadata": {
    "collapsed": false
   },
   "outputs": [
    {
     "name": "stdout",
     "output_type": "stream",
     "text": [
      "Examining county Afghanistan\n",
      "Examining county Albania\n",
      "Examining county Algeria\n",
      "Examining county Angola\n",
      "Examining county Argentina\n",
      "Examining county Armenia\n",
      "Examining county Australia\n",
      "Examining county Austria\n",
      "Examining county Azerbaijan\n",
      "Examining county Bahamas\n",
      "Examining county Bahrain\n",
      "Examining county Bangladesh\n",
      "Examining county Barbados\n",
      "Examining county Belarus\n",
      "Examining county Belgium\n",
      "Examining county Belize\n",
      "Examining county Benin\n",
      "Examining county Bhutan\n",
      "Examining county Bolivia\n",
      "Examining county Bosnia and Herzegovina\n"
     ]
    }
   ],
   "source": [
    "for country in countries:\n",
    "    print 'Examining county {}'.format(country)"
   ]
  },
  {
   "cell_type": "code",
   "execution_count": 29,
   "metadata": {
    "collapsed": false
   },
   "outputs": [
    {
     "name": "stdout",
     "output_type": "stream",
     "text": [
      "Country Afghanistan has employment 55.70000076\n",
      "Country Albania has employment 51.40000153\n",
      "Country Algeria has employment 50.5\n",
      "Country Angola has employment 75.69999695\n",
      "Country Argentina has employment 58.40000153\n",
      "Country Armenia has employment 40.09999847\n",
      "Country Australia has employment 61.5\n",
      "Country Austria has employment 57.09999847\n",
      "Country Azerbaijan has employment 60.90000153\n",
      "Country Bahamas has employment 66.59999847\n",
      "Country Bahrain has employment 60.40000153\n",
      "Country Bangladesh has employment 68.09999847\n",
      "Country Barbados has employment 66.90000153\n",
      "Country Belarus has employment 53.40000153\n",
      "Country Belgium has employment 48.59999847\n",
      "Country Belize has employment 56.79999924\n",
      "Country Benin has employment 71.59999847\n",
      "Country Bhutan has employment 58.40000153\n",
      "Country Bolivia has employment 70.40000153\n",
      "Country Bosnia and Herzegovina has employment 41.20000076\n"
     ]
    }
   ],
   "source": [
    "for i in range(len(countries)):\n",
    "        country = countries[i]\n",
    "        country_employment = employment[i]\n",
    "        print 'Country {} has employment {}'.format(country,country_employment)"
   ]
  },
  {
   "cell_type": "code",
   "execution_count": 34,
   "metadata": {
    "collapsed": false
   },
   "outputs": [
    {
     "data": {
      "text/plain": [
       "58.685000038500007"
      ]
     },
     "execution_count": 34,
     "metadata": {},
     "output_type": "execute_result"
    }
   ],
   "source": [
    "employment.mean()\n"
   ]
  },
  {
   "cell_type": "code",
   "execution_count": 31,
   "metadata": {
    "collapsed": false
   },
   "outputs": [
    {
     "data": {
      "text/plain": [
       "9.3382691136878879"
      ]
     },
     "execution_count": 31,
     "metadata": {},
     "output_type": "execute_result"
    }
   ],
   "source": [
    "employment.std()"
   ]
  },
  {
   "cell_type": "code",
   "execution_count": 32,
   "metadata": {
    "collapsed": false
   },
   "outputs": [
    {
     "data": {
      "text/plain": [
       "75.699996949999999"
      ]
     },
     "execution_count": 32,
     "metadata": {},
     "output_type": "execute_result"
    }
   ],
   "source": [
    "employment.max()"
   ]
  },
  {
   "cell_type": "code",
   "execution_count": 33,
   "metadata": {
    "collapsed": false
   },
   "outputs": [
    {
     "data": {
      "text/plain": [
       "1173.7000007700001"
      ]
     },
     "execution_count": 33,
     "metadata": {},
     "output_type": "execute_result"
    }
   ],
   "source": [
    "employment.sum()"
   ]
  },
  {
   "cell_type": "code",
   "execution_count": 37,
   "metadata": {
    "collapsed": false
   },
   "outputs": [],
   "source": [
    "def max_employment(countries, employment):\n",
    "    max_country = None\n",
    "    max_employment = None\n",
    "    for i in range(len(countries)):\n",
    "        country = countries[i]\n",
    "        country_employment = employment[i]\n",
    "        if country_employment > max_employment:\n",
    "            max_country = country\n",
    "            max_employment = country_employment\n",
    "    return (max_country, max_employment)"
   ]
  },
  {
   "cell_type": "code",
   "execution_count": 38,
   "metadata": {
    "collapsed": true
   },
   "outputs": [],
   "source": [
    "l = ['Barbara', 'kingsolver', 'wrote', 'The', 'Poisonwood','Bible']\n",
    "f = len\n"
   ]
  },
  {
   "cell_type": "code",
   "execution_count": 39,
   "metadata": {
    "collapsed": true
   },
   "outputs": [],
   "source": [
    "def find_max(f, l):\n",
    "    best_element_sofar = None\n",
    "    best_f_value_sofar = None\n",
    "    print \"i ranges over\", range(len(l)-1)\n",
    "    for i in range(len(l)-1):\n",
    "        print \"i =\", i\n",
    "        elt = l[i]\n",
    "        f_value = f(elt)\n",
    "        print \"elf =\", elt,\"f_value=\", f_value\n",
    "        if best_f_value_sofar == None or f_value > best_f_value_sofar:\n",
    "            best_element_sofar = elt\n",
    "            best_f_value_sofar = f_value\n",
    "    return best_element_sofar, best_f_value_sofar\n",
    "    "
   ]
  },
  {
   "cell_type": "code",
   "execution_count": 40,
   "metadata": {
    "collapsed": false
   },
   "outputs": [
    {
     "name": "stdout",
     "output_type": "stream",
     "text": [
      "i ranges over [0, 1, 2, 3, 4]\n",
      "i = 0\n",
      "elf = Barbara f_value= 7\n",
      "i = 1\n",
      "elf = kingsolver f_value= 10\n",
      "i = 2\n",
      "elf = wrote f_value= 5\n",
      "i = 3\n",
      "elf = The f_value= 3\n",
      "i = 4\n",
      "elf = Poisonwood f_value= 10\n"
     ]
    },
    {
     "data": {
      "text/plain": [
       "('kingsolver', 10)"
      ]
     },
     "execution_count": 40,
     "metadata": {},
     "output_type": "execute_result"
    }
   ],
   "source": [
    "find_max(f, l)"
   ]
  },
  {
   "cell_type": "code",
   "execution_count": 41,
   "metadata": {
    "collapsed": true
   },
   "outputs": [],
   "source": [
    "def lpos(word):\n",
    "    return word.find(\"l\")"
   ]
  },
  {
   "cell_type": "code",
   "execution_count": 43,
   "metadata": {
    "collapsed": false
   },
   "outputs": [
    {
     "data": {
      "text/plain": [
       "6"
      ]
     },
     "execution_count": 43,
     "metadata": {},
     "output_type": "execute_result"
    }
   ],
   "source": [
    "lpos('kingsolver')"
   ]
  },
  {
   "cell_type": "markdown",
   "metadata": {},
   "source": [
    "## Lambda"
   ]
  },
  {
   "cell_type": "code",
   "execution_count": 44,
   "metadata": {
    "collapsed": false
   },
   "outputs": [
    {
     "name": "stdout",
     "output_type": "stream",
     "text": [
      "i ranges over [0, 1, 2, 3, 4]\n",
      "i = 0\n",
      "elf = Barbara f_value= -1\n",
      "i = 1\n",
      "elf = kingsolver f_value= 6\n",
      "i = 2\n",
      "elf = wrote f_value= -1\n",
      "i = 3\n",
      "elf = The f_value= -1\n",
      "i = 4\n",
      "elf = Poisonwood f_value= -1\n"
     ]
    },
    {
     "data": {
      "text/plain": [
       "('kingsolver', 6)"
      ]
     },
     "execution_count": 44,
     "metadata": {},
     "output_type": "execute_result"
    }
   ],
   "source": [
    "find_max(lambda(word): word.find(\"l\"),l)"
   ]
  },
  {
   "cell_type": "markdown",
   "metadata": {},
   "source": [
    "## Applying Numpy"
   ]
  },
  {
   "cell_type": "code",
   "execution_count": 45,
   "metadata": {
    "collapsed": true
   },
   "outputs": [],
   "source": [
    "def max_employment1(countries, employment):\n",
    "    i = employment.argmax()\n",
    "    return (countries[i], employment[i])\n"
   ]
  },
  {
   "cell_type": "code",
   "execution_count": 46,
   "metadata": {
    "collapsed": false
   },
   "outputs": [
    {
     "data": {
      "text/plain": [
       "('Angola', 75.699996949999999)"
      ]
     },
     "execution_count": 46,
     "metadata": {},
     "output_type": "execute_result"
    }
   ],
   "source": [
    "max_employment(countries, employment)"
   ]
  },
  {
   "cell_type": "markdown",
   "metadata": {
    "collapsed": true
   },
   "source": [
    "## Panda Series"
   ]
  },
  {
   "cell_type": "code",
   "execution_count": 2,
   "metadata": {
    "collapsed": true
   },
   "outputs": [],
   "source": [
    "countries = ['Albania', 'Algeria', 'Andorra', 'Angola', 'Antigua and Barbuda',\n",
    "             'Argentina', 'Armenia', 'Australia', 'Austria', 'Azerbaijan',\n",
    "             'Bahamas', 'Bahrain', 'Bangladesh', 'Barbados', 'Belarus',\n",
    "             'Belgium', 'Belize', 'Benin', 'Bhutan', 'Bolivia']"
   ]
  },
  {
   "cell_type": "code",
   "execution_count": 3,
   "metadata": {
    "collapsed": true
   },
   "outputs": [],
   "source": [
    "life_expectancy_values = [74.7,  75. ,  83.4,  57.6,  74.6,  75.4,  72.3,  81.5,  80.2,\n",
    "                          70.3,  72.1,  76.4,  68.1,  75.2,  69.8,  79.4,  70.8,  62.7,\n",
    "                          67.3,  70.6]\n"
   ]
  },
  {
   "cell_type": "code",
   "execution_count": 4,
   "metadata": {
    "collapsed": true
   },
   "outputs": [],
   "source": [
    "gdp_values = [ 1681.61390973,   2155.48523109,  21495.80508273,    562.98768478,\n",
    "              13495.1274663 ,   9388.68852258,   1424.19056199,  24765.54890176,\n",
    "              27036.48733192,   1945.63754911,  21721.61840978,  13373.21993972,\n",
    "                483.97086804,   9783.98417323,   2253.46411147,  25034.66692293,\n",
    "               3680.91642923,    366.04496652,   1175.92638695,   1132.21387981]\n"
   ]
  },
  {
   "cell_type": "code",
   "execution_count": 5,
   "metadata": {
    "collapsed": true
   },
   "outputs": [],
   "source": [
    "life_expectancy = pd.Series(life_expectancy_values)"
   ]
  },
  {
   "cell_type": "code",
   "execution_count": 6,
   "metadata": {
    "collapsed": true
   },
   "outputs": [],
   "source": [
    "gdp = pd.Series(gdp_values)"
   ]
  },
  {
   "cell_type": "code",
   "execution_count": 7,
   "metadata": {
    "collapsed": false
   },
   "outputs": [
    {
     "data": {
      "text/plain": [
       "74.700000000000003"
      ]
     },
     "execution_count": 7,
     "metadata": {},
     "output_type": "execute_result"
    }
   ],
   "source": [
    "life_expectancy[0]"
   ]
  },
  {
   "cell_type": "code",
   "execution_count": 8,
   "metadata": {
    "collapsed": false
   },
   "outputs": [
    {
     "data": {
      "text/plain": [
       "3      562.987685\n",
       "4    13495.127466\n",
       "5     9388.688523\n",
       "dtype: float64"
      ]
     },
     "execution_count": 8,
     "metadata": {},
     "output_type": "execute_result"
    }
   ],
   "source": [
    "gdp[3:6]"
   ]
  },
  {
   "cell_type": "code",
   "execution_count": 9,
   "metadata": {
    "collapsed": false
   },
   "outputs": [
    {
     "name": "stdout",
     "output_type": "stream",
     "text": [
      "Examining life expectancy 74.7\n",
      "Examining life expectancy 75.0\n",
      "Examining life expectancy 83.4\n",
      "Examining life expectancy 57.6\n",
      "Examining life expectancy 74.6\n",
      "Examining life expectancy 75.4\n",
      "Examining life expectancy 72.3\n",
      "Examining life expectancy 81.5\n",
      "Examining life expectancy 80.2\n",
      "Examining life expectancy 70.3\n",
      "Examining life expectancy 72.1\n",
      "Examining life expectancy 76.4\n",
      "Examining life expectancy 68.1\n",
      "Examining life expectancy 75.2\n",
      "Examining life expectancy 69.8\n",
      "Examining life expectancy 79.4\n",
      "Examining life expectancy 70.8\n",
      "Examining life expectancy 62.7\n",
      "Examining life expectancy 67.3\n",
      "Examining life expectancy 70.6\n"
     ]
    }
   ],
   "source": [
    " for country_life_expectancy in life_expectancy:\n",
    "        print 'Examining life expectancy {}'.format(country_life_expectancy)\n",
    "        "
   ]
  },
  {
   "cell_type": "code",
   "execution_count": 10,
   "metadata": {
    "collapsed": false
   },
   "outputs": [
    {
     "data": {
      "text/plain": [
       "72.86999999999999"
      ]
     },
     "execution_count": 10,
     "metadata": {},
     "output_type": "execute_result"
    }
   ],
   "source": [
    "life_expectancy.mean()"
   ]
  },
  {
   "cell_type": "code",
   "execution_count": 11,
   "metadata": {
    "collapsed": false
   },
   "outputs": [
    {
     "data": {
      "text/plain": [
       "6.213999474869968"
      ]
     },
     "execution_count": 11,
     "metadata": {},
     "output_type": "execute_result"
    }
   ],
   "source": [
    "life_expectancy.std()"
   ]
  },
  {
   "cell_type": "code",
   "execution_count": 12,
   "metadata": {
    "collapsed": false
   },
   "outputs": [
    {
     "data": {
      "text/plain": [
       "27036.48733192"
      ]
     },
     "execution_count": 12,
     "metadata": {},
     "output_type": "execute_result"
    }
   ],
   "source": [
    "gdp.max()"
   ]
  },
  {
   "cell_type": "code",
   "execution_count": 13,
   "metadata": {
    "collapsed": false
   },
   "outputs": [
    {
     "data": {
      "text/plain": [
       "182957.59832967003"
      ]
     },
     "execution_count": 13,
     "metadata": {},
     "output_type": "execute_result"
    }
   ],
   "source": [
    "gdp.sum()"
   ]
  },
  {
   "cell_type": "code",
   "execution_count": 14,
   "metadata": {
    "collapsed": true
   },
   "outputs": [],
   "source": [
    "a = pd.Series([1, 2, 3, 4])"
   ]
  },
  {
   "cell_type": "code",
   "execution_count": 15,
   "metadata": {
    "collapsed": true
   },
   "outputs": [],
   "source": [
    "b = pd.Series([1, 2, 1, 2])"
   ]
  },
  {
   "cell_type": "code",
   "execution_count": 17,
   "metadata": {
    "collapsed": false
   },
   "outputs": [
    {
     "data": {
      "text/plain": [
       "0    2\n",
       "1    4\n",
       "2    4\n",
       "3    6\n",
       "dtype: int64"
      ]
     },
     "execution_count": 17,
     "metadata": {},
     "output_type": "execute_result"
    }
   ],
   "source": [
    "a + b\n"
   ]
  },
  {
   "cell_type": "code",
   "execution_count": 18,
   "metadata": {
    "collapsed": false
   },
   "outputs": [
    {
     "data": {
      "text/plain": [
       "0    2\n",
       "1    4\n",
       "2    6\n",
       "3    8\n",
       "dtype: int64"
      ]
     },
     "execution_count": 18,
     "metadata": {},
     "output_type": "execute_result"
    }
   ],
   "source": [
    "a * 2\n"
   ]
  },
  {
   "cell_type": "code",
   "execution_count": 19,
   "metadata": {
    "collapsed": false
   },
   "outputs": [
    {
     "data": {
      "text/plain": [
       "0    False\n",
       "1    False\n",
       "2     True\n",
       "3     True\n",
       "dtype: bool"
      ]
     },
     "execution_count": 19,
     "metadata": {},
     "output_type": "execute_result"
    }
   ],
   "source": [
    "a >= 3"
   ]
  },
  {
   "cell_type": "code",
   "execution_count": 20,
   "metadata": {
    "collapsed": false
   },
   "outputs": [
    {
     "data": {
      "text/plain": [
       "2    3\n",
       "3    4\n",
       "dtype: int64"
      ]
     },
     "execution_count": 20,
     "metadata": {},
     "output_type": "execute_result"
    }
   ],
   "source": [
    "a[a >= 3]"
   ]
  },
  {
   "cell_type": "code",
   "execution_count": 22,
   "metadata": {
    "collapsed": false
   },
   "outputs": [],
   "source": [
    "def variable_correlation(variable1, variable2):\n",
    "    both_above = (variable1 > variable1.mean()) & (variable2 > variable2.mean())\n",
    "    both_below = (variable1 < variable1.mean()) & ( variable2 < variable2.mean())\n",
    "    is_same_direction = both_above or both_below\n",
    "    num_same_direction = is_same_direction.sum()\n",
    "    num_different_direction = len(variable1)-num_same_direction\n",
    "    return (num_same_direction, num_different_direction)"
   ]
  },
  {
   "cell_type": "code",
   "execution_count": 23,
   "metadata": {
    "collapsed": false
   },
   "outputs": [
    {
     "ename": "ValueError",
     "evalue": "The truth value of a Series is ambiguous. Use a.empty, a.bool(), a.item(), a.any() or a.all().",
     "output_type": "error",
     "traceback": [
      "\u001b[1;31m---------------------------------------------------------------------------\u001b[0m",
      "\u001b[1;31mValueError\u001b[0m                                Traceback (most recent call last)",
      "\u001b[1;32m<ipython-input-23-07d4491ba6ab>\u001b[0m in \u001b[0;36m<module>\u001b[1;34m()\u001b[0m\n\u001b[1;32m----> 1\u001b[1;33m \u001b[0mvariable_correlation\u001b[0m\u001b[1;33m(\u001b[0m\u001b[0mlife_expectancy\u001b[0m\u001b[1;33m,\u001b[0m \u001b[0mgdp\u001b[0m\u001b[1;33m)\u001b[0m\u001b[1;33m\u001b[0m\u001b[0m\n\u001b[0m",
      "\u001b[1;32m<ipython-input-22-04a2d5fd9dd7>\u001b[0m in \u001b[0;36mvariable_correlation\u001b[1;34m(variable1, variable2)\u001b[0m\n\u001b[0;32m      2\u001b[0m     \u001b[0mboth_above\u001b[0m \u001b[1;33m=\u001b[0m \u001b[1;33m(\u001b[0m\u001b[0mvariable1\u001b[0m \u001b[1;33m>\u001b[0m \u001b[0mvariable1\u001b[0m\u001b[1;33m.\u001b[0m\u001b[0mmean\u001b[0m\u001b[1;33m(\u001b[0m\u001b[1;33m)\u001b[0m\u001b[1;33m)\u001b[0m \u001b[1;33m&\u001b[0m \u001b[1;33m(\u001b[0m\u001b[0mvariable2\u001b[0m \u001b[1;33m>\u001b[0m \u001b[0mvariable2\u001b[0m\u001b[1;33m.\u001b[0m\u001b[0mmean\u001b[0m\u001b[1;33m(\u001b[0m\u001b[1;33m)\u001b[0m\u001b[1;33m)\u001b[0m\u001b[1;33m\u001b[0m\u001b[0m\n\u001b[0;32m      3\u001b[0m     \u001b[0mboth_below\u001b[0m \u001b[1;33m=\u001b[0m \u001b[1;33m(\u001b[0m\u001b[0mvariable1\u001b[0m \u001b[1;33m<\u001b[0m \u001b[0mvariable1\u001b[0m\u001b[1;33m.\u001b[0m\u001b[0mmean\u001b[0m\u001b[1;33m(\u001b[0m\u001b[1;33m)\u001b[0m\u001b[1;33m)\u001b[0m \u001b[1;33m&\u001b[0m \u001b[1;33m(\u001b[0m \u001b[0mvariable2\u001b[0m \u001b[1;33m<\u001b[0m \u001b[0mvariable2\u001b[0m\u001b[1;33m.\u001b[0m\u001b[0mmean\u001b[0m\u001b[1;33m(\u001b[0m\u001b[1;33m)\u001b[0m\u001b[1;33m)\u001b[0m\u001b[1;33m\u001b[0m\u001b[0m\n\u001b[1;32m----> 4\u001b[1;33m     \u001b[0mis_same_direction\u001b[0m \u001b[1;33m=\u001b[0m \u001b[0mboth_above\u001b[0m \u001b[1;32mor\u001b[0m \u001b[0mboth_below\u001b[0m\u001b[1;33m\u001b[0m\u001b[0m\n\u001b[0m\u001b[0;32m      5\u001b[0m     \u001b[0mnum_same_direction\u001b[0m \u001b[1;33m=\u001b[0m \u001b[0mis_same_direction\u001b[0m\u001b[1;33m.\u001b[0m\u001b[0msum\u001b[0m\u001b[1;33m(\u001b[0m\u001b[1;33m)\u001b[0m\u001b[1;33m\u001b[0m\u001b[0m\n\u001b[0;32m      6\u001b[0m     \u001b[0mnum_different_direction\u001b[0m \u001b[1;33m=\u001b[0m \u001b[0mlen\u001b[0m\u001b[1;33m(\u001b[0m\u001b[0mvariable1\u001b[0m\u001b[1;33m)\u001b[0m\u001b[1;33m-\u001b[0m\u001b[0mnum_same_direction\u001b[0m\u001b[1;33m\u001b[0m\u001b[0m\n",
      "\u001b[1;32mc:\\users\\suh0902\\appdata\\local\\dato\\dato launcher\\lib\\site-packages\\pandas\\core\\generic.pyc\u001b[0m in \u001b[0;36m__nonzero__\u001b[1;34m(self)\u001b[0m\n\u001b[0;32m    728\u001b[0m         raise ValueError(\"The truth value of a {0} is ambiguous. \"\n\u001b[0;32m    729\u001b[0m                          \u001b[1;34m\"Use a.empty, a.bool(), a.item(), a.any() or a.all().\"\u001b[0m\u001b[1;33m\u001b[0m\u001b[0m\n\u001b[1;32m--> 730\u001b[1;33m                          .format(self.__class__.__name__))\n\u001b[0m\u001b[0;32m    731\u001b[0m \u001b[1;33m\u001b[0m\u001b[0m\n\u001b[0;32m    732\u001b[0m     \u001b[0m__bool__\u001b[0m \u001b[1;33m=\u001b[0m \u001b[0m__nonzero__\u001b[0m\u001b[1;33m\u001b[0m\u001b[0m\n",
      "\u001b[1;31mValueError\u001b[0m: The truth value of a Series is ambiguous. Use a.empty, a.bool(), a.item(), a.any() or a.all()."
     ]
    }
   ],
   "source": [
    "variable_correlation(life_expectancy, gdp)"
   ]
  },
  {
   "cell_type": "markdown",
   "metadata": {},
   "source": [
    "## Series idexes"
   ]
  },
  {
   "cell_type": "code",
   "execution_count": 24,
   "metadata": {
    "collapsed": true
   },
   "outputs": [],
   "source": [
    "countries = [\n",
    "    'Afghanistan', 'Albania', 'Algeria', 'Angola', 'Argentina',\n",
    "    'Armenia', 'Australia', 'Austria', 'Azerbaijan', 'Bahamas',\n",
    "    'Bahrain', 'Bangladesh', 'Barbados', 'Belarus', 'Belgium',\n",
    "    'Belize', 'Benin', 'Bhutan', 'Bolivia',\n",
    "    'Bosnia and Herzegovina'\n",
    "]\n"
   ]
  },
  {
   "cell_type": "code",
   "execution_count": 25,
   "metadata": {
    "collapsed": true
   },
   "outputs": [],
   "source": [
    "employment_values = [\n",
    "    55.70000076,  51.40000153,  50.5       ,  75.69999695,\n",
    "    58.40000153,  40.09999847,  61.5       ,  57.09999847,\n",
    "    60.90000153,  66.59999847,  60.40000153,  68.09999847,\n",
    "    66.90000153,  53.40000153,  48.59999847,  56.79999924,\n",
    "    71.59999847,  58.40000153,  70.40000153,  41.20000076\n",
    "]\n"
   ]
  },
  {
   "cell_type": "code",
   "execution_count": 27,
   "metadata": {
    "collapsed": false
   },
   "outputs": [],
   "source": [
    "employment = pd.Series(employment_values, index=countries)"
   ]
  },
  {
   "cell_type": "code",
   "execution_count": 33,
   "metadata": {
    "collapsed": true
   },
   "outputs": [],
   "source": [
    "def max_employment(employment):\n",
    "    max_country = employment.argmax()\n",
    "    max_value =employment.loc(max_country)\n",
    "    return (max_country, max_value)"
   ]
  },
  {
   "cell_type": "code",
   "execution_count": 34,
   "metadata": {
    "collapsed": false
   },
   "outputs": [
    {
     "data": {
      "text/plain": [
       "('Angola', <pandas.core.indexing._LocIndexer at 0xa922cc0>)"
      ]
     },
     "execution_count": 34,
     "metadata": {},
     "output_type": "execute_result"
    }
   ],
   "source": [
    "max_employment(employment)"
   ]
  },
  {
   "cell_type": "markdown",
   "metadata": {},
   "source": [
    "## Series Vectorized Operations"
   ]
  },
  {
   "cell_type": "code",
   "execution_count": 35,
   "metadata": {
    "collapsed": true
   },
   "outputs": [],
   "source": [
    "s1 = pd.Series([1, 2, 3, 4], index=['a', 'b', 'c', 'd'])"
   ]
  },
  {
   "cell_type": "code",
   "execution_count": 36,
   "metadata": {
    "collapsed": true
   },
   "outputs": [],
   "source": [
    "s2 = pd.Series([10, 20, 30, 40], index=['a', 'b', 'c', 'd'])"
   ]
  },
  {
   "cell_type": "code",
   "execution_count": 40,
   "metadata": {
    "collapsed": false
   },
   "outputs": [
    {
     "data": {
      "text/plain": [
       "a    1\n",
       "b    2\n",
       "c    3\n",
       "d    4\n",
       "dtype: int64"
      ]
     },
     "execution_count": 40,
     "metadata": {},
     "output_type": "execute_result"
    }
   ],
   "source": [
    "s1"
   ]
  },
  {
   "cell_type": "code",
   "execution_count": 41,
   "metadata": {
    "collapsed": false
   },
   "outputs": [
    {
     "data": {
      "text/plain": [
       "b    10\n",
       "d    20\n",
       "a    30\n",
       "c    40\n",
       "dtype: int64"
      ]
     },
     "execution_count": 41,
     "metadata": {},
     "output_type": "execute_result"
    }
   ],
   "source": [
    "s2"
   ]
  },
  {
   "cell_type": "code",
   "execution_count": 37,
   "metadata": {
    "collapsed": false
   },
   "outputs": [
    {
     "data": {
      "text/plain": [
       "a    11\n",
       "b    22\n",
       "c    33\n",
       "d    44\n",
       "dtype: int64"
      ]
     },
     "execution_count": 37,
     "metadata": {},
     "output_type": "execute_result"
    }
   ],
   "source": [
    "s1 + s2"
   ]
  },
  {
   "cell_type": "code",
   "execution_count": 38,
   "metadata": {
    "collapsed": true
   },
   "outputs": [],
   "source": [
    "s1 = pd.Series([1, 2, 3, 4], index=['a', 'b', 'c', 'd'])"
   ]
  },
  {
   "cell_type": "code",
   "execution_count": 39,
   "metadata": {
    "collapsed": true
   },
   "outputs": [],
   "source": [
    "s2 = pd.Series([10, 20, 30, 40], index=['b', 'd', 'a', 'c'])"
   ]
  },
  {
   "cell_type": "code",
   "execution_count": 42,
   "metadata": {
    "collapsed": false
   },
   "outputs": [
    {
     "data": {
      "text/plain": [
       "a    1\n",
       "b    2\n",
       "c    3\n",
       "d    4\n",
       "dtype: int64"
      ]
     },
     "execution_count": 42,
     "metadata": {},
     "output_type": "execute_result"
    }
   ],
   "source": [
    "s1"
   ]
  },
  {
   "cell_type": "code",
   "execution_count": 43,
   "metadata": {
    "collapsed": false
   },
   "outputs": [
    {
     "data": {
      "text/plain": [
       "b    10\n",
       "d    20\n",
       "a    30\n",
       "c    40\n",
       "dtype: int64"
      ]
     },
     "execution_count": 43,
     "metadata": {},
     "output_type": "execute_result"
    }
   ],
   "source": [
    "s2"
   ]
  },
  {
   "cell_type": "code",
   "execution_count": 44,
   "metadata": {
    "collapsed": false
   },
   "outputs": [
    {
     "data": {
      "text/plain": [
       "a    31\n",
       "b    12\n",
       "c    43\n",
       "d    24\n",
       "dtype: int64"
      ]
     },
     "execution_count": 44,
     "metadata": {},
     "output_type": "execute_result"
    }
   ],
   "source": [
    "s1 + s2"
   ]
  },
  {
   "cell_type": "code",
   "execution_count": 45,
   "metadata": {
    "collapsed": true
   },
   "outputs": [],
   "source": [
    "s1 = pd.Series([1, 2, 3, 4], index=['a', 'b', 'c', 'd'])"
   ]
  },
  {
   "cell_type": "code",
   "execution_count": 46,
   "metadata": {
    "collapsed": true
   },
   "outputs": [],
   "source": [
    "s2 = pd.Series([10, 20, 30, 40], index=['e', 'f', 'g', 'h'])"
   ]
  },
  {
   "cell_type": "code",
   "execution_count": 47,
   "metadata": {
    "collapsed": false
   },
   "outputs": [
    {
     "data": {
      "text/plain": [
       "a   NaN\n",
       "b   NaN\n",
       "c   NaN\n",
       "d   NaN\n",
       "e   NaN\n",
       "f   NaN\n",
       "g   NaN\n",
       "h   NaN\n",
       "dtype: float64"
      ]
     },
     "execution_count": 47,
     "metadata": {},
     "output_type": "execute_result"
    }
   ],
   "source": [
    "s1 + s2"
   ]
  },
  {
   "cell_type": "markdown",
   "metadata": {},
   "source": [
    "## Filling Missing Values"
   ]
  },
  {
   "cell_type": "code",
   "execution_count": 49,
   "metadata": {
    "collapsed": true
   },
   "outputs": [],
   "source": [
    "s1 = pd.Series([1, 2, 3, 4], index=['a', 'b', 'c', 'd'])\n",
    "s2 = pd.Series([10, 20, 30, 40], index=['c', 'd', 'e', 'f'])\n",
    "sum_result = s1 + s2"
   ]
  },
  {
   "cell_type": "code",
   "execution_count": 50,
   "metadata": {
    "collapsed": false
   },
   "outputs": [
    {
     "data": {
      "text/plain": [
       "c    13\n",
       "d    24\n",
       "dtype: float64"
      ]
     },
     "execution_count": 50,
     "metadata": {},
     "output_type": "execute_result"
    }
   ],
   "source": [
    "sum_result.dropna()"
   ]
  },
  {
   "cell_type": "code",
   "execution_count": 51,
   "metadata": {
    "collapsed": false
   },
   "outputs": [
    {
     "data": {
      "text/plain": [
       "a     1\n",
       "b     2\n",
       "c    13\n",
       "d    24\n",
       "e    30\n",
       "f    40\n",
       "dtype: float64"
      ]
     },
     "execution_count": 51,
     "metadata": {},
     "output_type": "execute_result"
    }
   ],
   "source": [
    "s1.add(s2,fill_value=0)"
   ]
  },
  {
   "cell_type": "markdown",
   "metadata": {},
   "source": [
    "## Pandas Series apply()"
   ]
  },
  {
   "cell_type": "code",
   "execution_count": 52,
   "metadata": {
    "collapsed": true
   },
   "outputs": [],
   "source": [
    "states = pd.Series(['California','OH','Michigan','NY'])"
   ]
  },
  {
   "cell_type": "code",
   "execution_count": 54,
   "metadata": {
    "collapsed": false
   },
   "outputs": [],
   "source": [
    "def clean_state(state):\n",
    "    if len(state) == 2:\n",
    "        return state\n",
    "    elif state == 'Alabama':\n",
    "        return 'AL'\n",
    "    elif state == 'Alaska':\n",
    "        return 'ALAS'"
   ]
  },
  {
   "cell_type": "code",
   "execution_count": 55,
   "metadata": {
    "collapsed": true
   },
   "outputs": [],
   "source": [
    "clean_states = []\n",
    "for state in states:\n",
    "    clean_states.append(clean_state(state))\n",
    "clean_states = pd.Series(clean_states)"
   ]
  },
  {
   "cell_type": "code",
   "execution_count": 56,
   "metadata": {
    "collapsed": true
   },
   "outputs": [],
   "source": [
    "clean_states = states.apply(clean_state)"
   ]
  },
  {
   "cell_type": "code",
   "execution_count": 57,
   "metadata": {
    "collapsed": true
   },
   "outputs": [],
   "source": [
    "s = pd.Series([1, 2, 3, 4, 5])"
   ]
  },
  {
   "cell_type": "code",
   "execution_count": 58,
   "metadata": {
    "collapsed": true
   },
   "outputs": [],
   "source": [
    "def add_one(x):\n",
    "        return x + 1"
   ]
  },
  {
   "cell_type": "code",
   "execution_count": 59,
   "metadata": {
    "collapsed": false
   },
   "outputs": [
    {
     "data": {
      "text/plain": [
       "0    2\n",
       "1    3\n",
       "2    4\n",
       "3    5\n",
       "4    6\n",
       "dtype: int64"
      ]
     },
     "execution_count": 59,
     "metadata": {},
     "output_type": "execute_result"
    }
   ],
   "source": [
    "s.apply(add_one)"
   ]
  },
  {
   "cell_type": "code",
   "execution_count": 60,
   "metadata": {
    "collapsed": true
   },
   "outputs": [],
   "source": [
    "names = pd.Series([\n",
    "    'Andre Agassi',\n",
    "    'Barry Bonds',\n",
    "    'Christopher Columbus',\n",
    "    'Daniel Defoe',\n",
    "    'Emilio Estevez',\n",
    "    'Fred Flintstone',\n",
    "    'Greta Garbo',\n",
    "    'Humbert Humbert',\n",
    "    'Ivan Ilych',\n",
    "    'James Joyce',\n",
    "    'Keira Knightley',\n",
    "    'Lois Lane',\n",
    "    'Mike Myers',\n",
    "    'Nick Nolte',\n",
    "    'Ozzy Osbourne',\n",
    "    'Pablo Picasso',\n",
    "    'Quirinus Quirrell',\n",
    "    'Rachael Ray',\n",
    "    'Susan Sarandon',\n",
    "    'Tina Turner',\n",
    "    'Ugueth Urbina',\n",
    "    'Vince Vaughn',\n",
    "    'Woodrow Wilson',\n",
    "    'Yoji Yamada',\n",
    "    'Zinedine Zidane'\n",
    "])\n"
   ]
  },
  {
   "cell_type": "code",
   "execution_count": 61,
   "metadata": {
    "collapsed": true
   },
   "outputs": [],
   "source": [
    "def reverse_name(name):\n",
    "    split_name = name.split(\" \")\n",
    "    first_name = split_name[0]\n",
    "    last_name = split_name[1]\n",
    "    return first_name + \",\"+ last_name"
   ]
  },
  {
   "cell_type": "code",
   "execution_count": 62,
   "metadata": {
    "collapsed": false
   },
   "outputs": [
    {
     "data": {
      "text/plain": [
       "'Andre,Agassi'"
      ]
     },
     "execution_count": 62,
     "metadata": {},
     "output_type": "execute_result"
    }
   ],
   "source": [
    "reverse_name(names.iloc[0])"
   ]
  },
  {
   "cell_type": "code",
   "execution_count": 63,
   "metadata": {
    "collapsed": true
   },
   "outputs": [],
   "source": [
    "def reverse_names(names):\n",
    "    return names.apply(reverse_name)"
   ]
  },
  {
   "cell_type": "code",
   "execution_count": 64,
   "metadata": {
    "collapsed": false
   },
   "outputs": [
    {
     "data": {
      "text/plain": [
       "0             Andre,Agassi\n",
       "1              Barry,Bonds\n",
       "2     Christopher,Columbus\n",
       "3             Daniel,Defoe\n",
       "4           Emilio,Estevez\n",
       "5          Fred,Flintstone\n",
       "6              Greta,Garbo\n",
       "7          Humbert,Humbert\n",
       "8               Ivan,Ilych\n",
       "9              James,Joyce\n",
       "10         Keira,Knightley\n",
       "11               Lois,Lane\n",
       "12              Mike,Myers\n",
       "13              Nick,Nolte\n",
       "14           Ozzy,Osbourne\n",
       "15           Pablo,Picasso\n",
       "16       Quirinus,Quirrell\n",
       "17             Rachael,Ray\n",
       "18          Susan,Sarandon\n",
       "19             Tina,Turner\n",
       "20           Ugueth,Urbina\n",
       "21            Vince,Vaughn\n",
       "22          Woodrow,Wilson\n",
       "23             Yoji,Yamada\n",
       "24         Zinedine,Zidane\n",
       "dtype: object"
      ]
     },
     "execution_count": 64,
     "metadata": {},
     "output_type": "execute_result"
    }
   ],
   "source": [
    "reverse_names(names)"
   ]
  },
  {
   "cell_type": "markdown",
   "metadata": {},
   "source": [
    "## Plotting in Pandas"
   ]
  },
  {
   "cell_type": "code",
   "execution_count": 70,
   "metadata": {
    "collapsed": true
   },
   "outputs": [],
   "source": [
    "import os\n",
    "os.chdir('C:\\Users\\suh0902\\Desktop\\CP\\dataset')"
   ]
  },
  {
   "cell_type": "code",
   "execution_count": 78,
   "metadata": {
    "collapsed": false
   },
   "outputs": [],
   "source": [
    "employment = pd.read_csv('employment_above_15.csv', index_col='Country')"
   ]
  },
  {
   "cell_type": "code",
   "execution_count": 75,
   "metadata": {
    "collapsed": false
   },
   "outputs": [
    {
     "data": {
      "text/html": [
       "<div>\n",
       "<table border=\"1\" class=\"dataframe\">\n",
       "  <thead>\n",
       "    <tr style=\"text-align: right;\">\n",
       "      <th></th>\n",
       "      <th>Total above 15 employment to population (%)</th>\n",
       "      <th>1991</th>\n",
       "      <th>1992</th>\n",
       "      <th>1993</th>\n",
       "      <th>1994</th>\n",
       "      <th>1995</th>\n",
       "      <th>1996</th>\n",
       "      <th>1997</th>\n",
       "      <th>1998</th>\n",
       "      <th>1999</th>\n",
       "      <th>2000</th>\n",
       "      <th>2001</th>\n",
       "      <th>2002</th>\n",
       "      <th>2003</th>\n",
       "      <th>2004</th>\n",
       "      <th>2005</th>\n",
       "      <th>2006</th>\n",
       "      <th>2007</th>\n",
       "      <th>Unnamed: 18</th>\n",
       "    </tr>\n",
       "  </thead>\n",
       "  <tbody>\n",
       "    <tr>\n",
       "      <th>0</th>\n",
       "      <td>Afghanistan</td>\n",
       "      <td>56.700001</td>\n",
       "      <td>56.500000</td>\n",
       "      <td>56.599998</td>\n",
       "      <td>56.200001</td>\n",
       "      <td>56.200001</td>\n",
       "      <td>56.099998</td>\n",
       "      <td>56.200001</td>\n",
       "      <td>56.200001</td>\n",
       "      <td>56.099998</td>\n",
       "      <td>56.099998</td>\n",
       "      <td>56.500000</td>\n",
       "      <td>56.400002</td>\n",
       "      <td>54.400002</td>\n",
       "      <td>56.000000</td>\n",
       "      <td>54.000000</td>\n",
       "      <td>56.000000</td>\n",
       "      <td>55.700001</td>\n",
       "      <td>NaN</td>\n",
       "    </tr>\n",
       "    <tr>\n",
       "      <th>1</th>\n",
       "      <td>Albania</td>\n",
       "      <td>52.700001</td>\n",
       "      <td>52.299999</td>\n",
       "      <td>52.400002</td>\n",
       "      <td>52.700001</td>\n",
       "      <td>52.799999</td>\n",
       "      <td>52.599998</td>\n",
       "      <td>52.400002</td>\n",
       "      <td>52.099998</td>\n",
       "      <td>52.099998</td>\n",
       "      <td>51.900002</td>\n",
       "      <td>51.799999</td>\n",
       "      <td>51.799999</td>\n",
       "      <td>51.799999</td>\n",
       "      <td>51.700001</td>\n",
       "      <td>51.500000</td>\n",
       "      <td>51.400002</td>\n",
       "      <td>51.400002</td>\n",
       "      <td>NaN</td>\n",
       "    </tr>\n",
       "    <tr>\n",
       "      <th>2</th>\n",
       "      <td>Algeria</td>\n",
       "      <td>39.400002</td>\n",
       "      <td>38.900002</td>\n",
       "      <td>39.400002</td>\n",
       "      <td>39.400002</td>\n",
       "      <td>38.099998</td>\n",
       "      <td>38.900002</td>\n",
       "      <td>39.700001</td>\n",
       "      <td>39.500000</td>\n",
       "      <td>39.400002</td>\n",
       "      <td>38.599998</td>\n",
       "      <td>40.400002</td>\n",
       "      <td>41.500000</td>\n",
       "      <td>42.799999</td>\n",
       "      <td>46.400002</td>\n",
       "      <td>48.000000</td>\n",
       "      <td>50.000000</td>\n",
       "      <td>50.500000</td>\n",
       "      <td>NaN</td>\n",
       "    </tr>\n",
       "    <tr>\n",
       "      <th>3</th>\n",
       "      <td>Angola</td>\n",
       "      <td>75.800003</td>\n",
       "      <td>75.800003</td>\n",
       "      <td>75.500000</td>\n",
       "      <td>75.900002</td>\n",
       "      <td>75.800003</td>\n",
       "      <td>75.900002</td>\n",
       "      <td>75.699997</td>\n",
       "      <td>75.599998</td>\n",
       "      <td>75.599998</td>\n",
       "      <td>75.500000</td>\n",
       "      <td>75.500000</td>\n",
       "      <td>75.599998</td>\n",
       "      <td>75.500000</td>\n",
       "      <td>75.500000</td>\n",
       "      <td>75.599998</td>\n",
       "      <td>75.500000</td>\n",
       "      <td>75.699997</td>\n",
       "      <td>NaN</td>\n",
       "    </tr>\n",
       "    <tr>\n",
       "      <th>4</th>\n",
       "      <td>Argentina</td>\n",
       "      <td>53.599998</td>\n",
       "      <td>53.799999</td>\n",
       "      <td>53.700001</td>\n",
       "      <td>53.799999</td>\n",
       "      <td>53.500000</td>\n",
       "      <td>54.400002</td>\n",
       "      <td>54.900002</td>\n",
       "      <td>55.000000</td>\n",
       "      <td>54.900002</td>\n",
       "      <td>55.500000</td>\n",
       "      <td>55.599998</td>\n",
       "      <td>55.400002</td>\n",
       "      <td>57.299999</td>\n",
       "      <td>57.700001</td>\n",
       "      <td>58.099998</td>\n",
       "      <td>58.400002</td>\n",
       "      <td>58.400002</td>\n",
       "      <td>NaN</td>\n",
       "    </tr>\n",
       "    <tr>\n",
       "      <th>5</th>\n",
       "      <td>Armenia</td>\n",
       "      <td>39.299999</td>\n",
       "      <td>38.200001</td>\n",
       "      <td>37.400002</td>\n",
       "      <td>37.400002</td>\n",
       "      <td>37.099998</td>\n",
       "      <td>38.099998</td>\n",
       "      <td>37.400002</td>\n",
       "      <td>38.099998</td>\n",
       "      <td>37.200001</td>\n",
       "      <td>37.799999</td>\n",
       "      <td>38.599998</td>\n",
       "      <td>39.299999</td>\n",
       "      <td>39.500000</td>\n",
       "      <td>38.900002</td>\n",
       "      <td>39.500000</td>\n",
       "      <td>39.400002</td>\n",
       "      <td>40.099998</td>\n",
       "      <td>NaN</td>\n",
       "    </tr>\n",
       "    <tr>\n",
       "      <th>6</th>\n",
       "      <td>Australia</td>\n",
       "      <td>57.200001</td>\n",
       "      <td>56.200001</td>\n",
       "      <td>55.900002</td>\n",
       "      <td>56.900002</td>\n",
       "      <td>58.400002</td>\n",
       "      <td>58.200001</td>\n",
       "      <td>57.900002</td>\n",
       "      <td>58.299999</td>\n",
       "      <td>58.700001</td>\n",
       "      <td>59.400002</td>\n",
       "      <td>59.200001</td>\n",
       "      <td>59.500000</td>\n",
       "      <td>59.900002</td>\n",
       "      <td>60.099998</td>\n",
       "      <td>61.200001</td>\n",
       "      <td>61.599998</td>\n",
       "      <td>61.500000</td>\n",
       "      <td>NaN</td>\n",
       "    </tr>\n",
       "    <tr>\n",
       "      <th>7</th>\n",
       "      <td>Austria</td>\n",
       "      <td>54.200001</td>\n",
       "      <td>54.900002</td>\n",
       "      <td>54.700001</td>\n",
       "      <td>56.400002</td>\n",
       "      <td>56.700001</td>\n",
       "      <td>55.799999</td>\n",
       "      <td>55.799999</td>\n",
       "      <td>55.599998</td>\n",
       "      <td>56.000000</td>\n",
       "      <td>56.099998</td>\n",
       "      <td>56.099998</td>\n",
       "      <td>56.500000</td>\n",
       "      <td>56.700001</td>\n",
       "      <td>55.700001</td>\n",
       "      <td>56.200001</td>\n",
       "      <td>57.099998</td>\n",
       "      <td>57.099998</td>\n",
       "      <td>NaN</td>\n",
       "    </tr>\n",
       "    <tr>\n",
       "      <th>8</th>\n",
       "      <td>Azerbaijan</td>\n",
       "      <td>56.900002</td>\n",
       "      <td>56.799999</td>\n",
       "      <td>56.599998</td>\n",
       "      <td>56.200001</td>\n",
       "      <td>55.400002</td>\n",
       "      <td>55.799999</td>\n",
       "      <td>56.599998</td>\n",
       "      <td>56.700001</td>\n",
       "      <td>57.000000</td>\n",
       "      <td>57.400002</td>\n",
       "      <td>57.500000</td>\n",
       "      <td>57.500000</td>\n",
       "      <td>57.900002</td>\n",
       "      <td>59.400002</td>\n",
       "      <td>59.000000</td>\n",
       "      <td>59.299999</td>\n",
       "      <td>60.900002</td>\n",
       "      <td>NaN</td>\n",
       "    </tr>\n",
       "    <tr>\n",
       "      <th>9</th>\n",
       "      <td>Bahamas</td>\n",
       "      <td>63.000000</td>\n",
       "      <td>61.299999</td>\n",
       "      <td>62.799999</td>\n",
       "      <td>62.700001</td>\n",
       "      <td>64.500000</td>\n",
       "      <td>64.099998</td>\n",
       "      <td>65.199997</td>\n",
       "      <td>66.599998</td>\n",
       "      <td>66.699997</td>\n",
       "      <td>67.000000</td>\n",
       "      <td>67.099998</td>\n",
       "      <td>65.599998</td>\n",
       "      <td>64.400002</td>\n",
       "      <td>64.900002</td>\n",
       "      <td>65.000000</td>\n",
       "      <td>66.900002</td>\n",
       "      <td>66.599998</td>\n",
       "      <td>NaN</td>\n",
       "    </tr>\n",
       "    <tr>\n",
       "      <th>10</th>\n",
       "      <td>Bahrain</td>\n",
       "      <td>61.200001</td>\n",
       "      <td>61.400002</td>\n",
       "      <td>61.500000</td>\n",
       "      <td>61.799999</td>\n",
       "      <td>61.900002</td>\n",
       "      <td>61.900002</td>\n",
       "      <td>61.599998</td>\n",
       "      <td>61.599998</td>\n",
       "      <td>61.599998</td>\n",
       "      <td>61.599998</td>\n",
       "      <td>61.700001</td>\n",
       "      <td>61.500000</td>\n",
       "      <td>61.400002</td>\n",
       "      <td>61.200001</td>\n",
       "      <td>61.000000</td>\n",
       "      <td>60.599998</td>\n",
       "      <td>60.400002</td>\n",
       "      <td>NaN</td>\n",
       "    </tr>\n",
       "    <tr>\n",
       "      <th>11</th>\n",
       "      <td>Bangladesh</td>\n",
       "      <td>74.500000</td>\n",
       "      <td>72.500000</td>\n",
       "      <td>73.000000</td>\n",
       "      <td>71.800003</td>\n",
       "      <td>70.500000</td>\n",
       "      <td>70.400002</td>\n",
       "      <td>69.900002</td>\n",
       "      <td>69.900002</td>\n",
       "      <td>69.300003</td>\n",
       "      <td>68.900002</td>\n",
       "      <td>68.900002</td>\n",
       "      <td>68.900002</td>\n",
       "      <td>68.500000</td>\n",
       "      <td>68.300003</td>\n",
       "      <td>68.599998</td>\n",
       "      <td>68.599998</td>\n",
       "      <td>68.099998</td>\n",
       "      <td>NaN</td>\n",
       "    </tr>\n",
       "    <tr>\n",
       "      <th>12</th>\n",
       "      <td>Barbados</td>\n",
       "      <td>56.900002</td>\n",
       "      <td>53.700001</td>\n",
       "      <td>52.500000</td>\n",
       "      <td>54.900002</td>\n",
       "      <td>58.000000</td>\n",
       "      <td>61.200001</td>\n",
       "      <td>61.400002</td>\n",
       "      <td>63.099998</td>\n",
       "      <td>64.400002</td>\n",
       "      <td>65.300003</td>\n",
       "      <td>65.000000</td>\n",
       "      <td>64.599998</td>\n",
       "      <td>64.099998</td>\n",
       "      <td>65.599998</td>\n",
       "      <td>66.099998</td>\n",
       "      <td>66.400002</td>\n",
       "      <td>66.900002</td>\n",
       "      <td>NaN</td>\n",
       "    </tr>\n",
       "    <tr>\n",
       "      <th>13</th>\n",
       "      <td>Belarus</td>\n",
       "      <td>59.200001</td>\n",
       "      <td>58.299999</td>\n",
       "      <td>57.400002</td>\n",
       "      <td>56.599998</td>\n",
       "      <td>55.700001</td>\n",
       "      <td>55.200001</td>\n",
       "      <td>55.099998</td>\n",
       "      <td>54.000000</td>\n",
       "      <td>52.799999</td>\n",
       "      <td>53.000000</td>\n",
       "      <td>53.000000</td>\n",
       "      <td>53.099998</td>\n",
       "      <td>53.299999</td>\n",
       "      <td>53.599998</td>\n",
       "      <td>53.700001</td>\n",
       "      <td>53.700001</td>\n",
       "      <td>53.400002</td>\n",
       "      <td>NaN</td>\n",
       "    </tr>\n",
       "    <tr>\n",
       "      <th>14</th>\n",
       "      <td>Belgium</td>\n",
       "      <td>45.700001</td>\n",
       "      <td>46.099998</td>\n",
       "      <td>45.500000</td>\n",
       "      <td>45.299999</td>\n",
       "      <td>45.599998</td>\n",
       "      <td>45.500000</td>\n",
       "      <td>45.799999</td>\n",
       "      <td>45.900002</td>\n",
       "      <td>47.299999</td>\n",
       "      <td>48.700001</td>\n",
       "      <td>47.599998</td>\n",
       "      <td>47.500000</td>\n",
       "      <td>47.200001</td>\n",
       "      <td>48.099998</td>\n",
       "      <td>48.500000</td>\n",
       "      <td>48.200001</td>\n",
       "      <td>48.599998</td>\n",
       "      <td>NaN</td>\n",
       "    </tr>\n",
       "    <tr>\n",
       "      <th>15</th>\n",
       "      <td>Belize</td>\n",
       "      <td>47.599998</td>\n",
       "      <td>49.200001</td>\n",
       "      <td>51.299999</td>\n",
       "      <td>52.299999</td>\n",
       "      <td>51.700001</td>\n",
       "      <td>51.099998</td>\n",
       "      <td>52.099998</td>\n",
       "      <td>51.500000</td>\n",
       "      <td>52.700001</td>\n",
       "      <td>54.200001</td>\n",
       "      <td>55.799999</td>\n",
       "      <td>55.599998</td>\n",
       "      <td>55.900002</td>\n",
       "      <td>56.099998</td>\n",
       "      <td>56.099998</td>\n",
       "      <td>57.500000</td>\n",
       "      <td>56.799999</td>\n",
       "      <td>NaN</td>\n",
       "    </tr>\n",
       "    <tr>\n",
       "      <th>16</th>\n",
       "      <td>Benin</td>\n",
       "      <td>70.599998</td>\n",
       "      <td>72.099998</td>\n",
       "      <td>72.300003</td>\n",
       "      <td>72.500000</td>\n",
       "      <td>72.599998</td>\n",
       "      <td>72.599998</td>\n",
       "      <td>72.500000</td>\n",
       "      <td>72.300003</td>\n",
       "      <td>72.199997</td>\n",
       "      <td>72.099998</td>\n",
       "      <td>72.000000</td>\n",
       "      <td>72.000000</td>\n",
       "      <td>71.900002</td>\n",
       "      <td>71.800003</td>\n",
       "      <td>71.699997</td>\n",
       "      <td>71.599998</td>\n",
       "      <td>71.599998</td>\n",
       "      <td>NaN</td>\n",
       "    </tr>\n",
       "    <tr>\n",
       "      <th>17</th>\n",
       "      <td>Bhutan</td>\n",
       "      <td>53.700001</td>\n",
       "      <td>52.500000</td>\n",
       "      <td>52.000000</td>\n",
       "      <td>51.000000</td>\n",
       "      <td>50.299999</td>\n",
       "      <td>50.200001</td>\n",
       "      <td>50.099998</td>\n",
       "      <td>50.200001</td>\n",
       "      <td>50.400002</td>\n",
       "      <td>51.400002</td>\n",
       "      <td>52.700001</td>\n",
       "      <td>53.599998</td>\n",
       "      <td>55.900002</td>\n",
       "      <td>57.400002</td>\n",
       "      <td>59.099998</td>\n",
       "      <td>59.599998</td>\n",
       "      <td>58.400002</td>\n",
       "      <td>NaN</td>\n",
       "    </tr>\n",
       "    <tr>\n",
       "      <th>18</th>\n",
       "      <td>Bolivia</td>\n",
       "      <td>61.500000</td>\n",
       "      <td>61.000000</td>\n",
       "      <td>61.000000</td>\n",
       "      <td>60.900002</td>\n",
       "      <td>60.700001</td>\n",
       "      <td>61.799999</td>\n",
       "      <td>67.599998</td>\n",
       "      <td>67.699997</td>\n",
       "      <td>67.699997</td>\n",
       "      <td>67.300003</td>\n",
       "      <td>67.300003</td>\n",
       "      <td>67.800003</td>\n",
       "      <td>68.300003</td>\n",
       "      <td>68.900002</td>\n",
       "      <td>69.400002</td>\n",
       "      <td>70.099998</td>\n",
       "      <td>70.400002</td>\n",
       "      <td>NaN</td>\n",
       "    </tr>\n",
       "    <tr>\n",
       "      <th>19</th>\n",
       "      <td>Bosnia and Herzegovina</td>\n",
       "      <td>51.599998</td>\n",
       "      <td>50.099998</td>\n",
       "      <td>48.000000</td>\n",
       "      <td>47.599998</td>\n",
       "      <td>47.700001</td>\n",
       "      <td>47.900002</td>\n",
       "      <td>47.000000</td>\n",
       "      <td>46.099998</td>\n",
       "      <td>45.299999</td>\n",
       "      <td>44.400002</td>\n",
       "      <td>45.099998</td>\n",
       "      <td>44.200001</td>\n",
       "      <td>44.700001</td>\n",
       "      <td>43.099998</td>\n",
       "      <td>44.200001</td>\n",
       "      <td>41.099998</td>\n",
       "      <td>41.200001</td>\n",
       "      <td>NaN</td>\n",
       "    </tr>\n",
       "    <tr>\n",
       "      <th>20</th>\n",
       "      <td>Botswana</td>\n",
       "      <td>48.900002</td>\n",
       "      <td>48.000000</td>\n",
       "      <td>47.000000</td>\n",
       "      <td>45.299999</td>\n",
       "      <td>44.000000</td>\n",
       "      <td>42.799999</td>\n",
       "      <td>45.700001</td>\n",
       "      <td>48.200001</td>\n",
       "      <td>48.900002</td>\n",
       "      <td>49.500000</td>\n",
       "      <td>45.700001</td>\n",
       "      <td>44.000000</td>\n",
       "      <td>42.400002</td>\n",
       "      <td>40.200001</td>\n",
       "      <td>37.799999</td>\n",
       "      <td>45.500000</td>\n",
       "      <td>46.000000</td>\n",
       "      <td>NaN</td>\n",
       "    </tr>\n",
       "    <tr>\n",
       "      <th>21</th>\n",
       "      <td>Brazil</td>\n",
       "      <td>56.099998</td>\n",
       "      <td>59.500000</td>\n",
       "      <td>60.099998</td>\n",
       "      <td>60.599998</td>\n",
       "      <td>61.099998</td>\n",
       "      <td>60.400002</td>\n",
       "      <td>60.700001</td>\n",
       "      <td>60.500000</td>\n",
       "      <td>60.700001</td>\n",
       "      <td>61.200001</td>\n",
       "      <td>61.500000</td>\n",
       "      <td>62.400002</td>\n",
       "      <td>62.000000</td>\n",
       "      <td>63.299999</td>\n",
       "      <td>63.200001</td>\n",
       "      <td>64.000000</td>\n",
       "      <td>64.500000</td>\n",
       "      <td>NaN</td>\n",
       "    </tr>\n",
       "    <tr>\n",
       "      <th>22</th>\n",
       "      <td>Brunei</td>\n",
       "      <td>62.599998</td>\n",
       "      <td>62.799999</td>\n",
       "      <td>62.900002</td>\n",
       "      <td>63.099998</td>\n",
       "      <td>63.299999</td>\n",
       "      <td>63.500000</td>\n",
       "      <td>63.700001</td>\n",
       "      <td>64.000000</td>\n",
       "      <td>64.300003</td>\n",
       "      <td>64.400002</td>\n",
       "      <td>64.599998</td>\n",
       "      <td>64.500000</td>\n",
       "      <td>64.300003</td>\n",
       "      <td>64.199997</td>\n",
       "      <td>64.099998</td>\n",
       "      <td>64.099998</td>\n",
       "      <td>63.799999</td>\n",
       "      <td>NaN</td>\n",
       "    </tr>\n",
       "    <tr>\n",
       "      <th>23</th>\n",
       "      <td>Bulgaria</td>\n",
       "      <td>46.400002</td>\n",
       "      <td>48.900002</td>\n",
       "      <td>44.299999</td>\n",
       "      <td>44.200001</td>\n",
       "      <td>45.599998</td>\n",
       "      <td>45.700001</td>\n",
       "      <td>44.599998</td>\n",
       "      <td>44.200001</td>\n",
       "      <td>42.000000</td>\n",
       "      <td>39.299999</td>\n",
       "      <td>41.099998</td>\n",
       "      <td>41.799999</td>\n",
       "      <td>42.900002</td>\n",
       "      <td>44.299999</td>\n",
       "      <td>45.400002</td>\n",
       "      <td>47.799999</td>\n",
       "      <td>47.299999</td>\n",
       "      <td>NaN</td>\n",
       "    </tr>\n",
       "    <tr>\n",
       "      <th>24</th>\n",
       "      <td>Burkina Faso</td>\n",
       "      <td>80.699997</td>\n",
       "      <td>80.699997</td>\n",
       "      <td>80.699997</td>\n",
       "      <td>80.800003</td>\n",
       "      <td>80.900002</td>\n",
       "      <td>81.000000</td>\n",
       "      <td>81.000000</td>\n",
       "      <td>81.099998</td>\n",
       "      <td>81.099998</td>\n",
       "      <td>81.099998</td>\n",
       "      <td>81.199997</td>\n",
       "      <td>81.199997</td>\n",
       "      <td>81.199997</td>\n",
       "      <td>81.199997</td>\n",
       "      <td>81.199997</td>\n",
       "      <td>81.199997</td>\n",
       "      <td>81.300003</td>\n",
       "      <td>NaN</td>\n",
       "    </tr>\n",
       "    <tr>\n",
       "      <th>25</th>\n",
       "      <td>Burundi</td>\n",
       "      <td>84.199997</td>\n",
       "      <td>84.300003</td>\n",
       "      <td>84.500000</td>\n",
       "      <td>84.699997</td>\n",
       "      <td>84.800003</td>\n",
       "      <td>84.800003</td>\n",
       "      <td>84.900002</td>\n",
       "      <td>84.800003</td>\n",
       "      <td>84.699997</td>\n",
       "      <td>84.500000</td>\n",
       "      <td>84.300003</td>\n",
       "      <td>84.000000</td>\n",
       "      <td>83.599998</td>\n",
       "      <td>83.400002</td>\n",
       "      <td>83.199997</td>\n",
       "      <td>83.199997</td>\n",
       "      <td>83.199997</td>\n",
       "      <td>NaN</td>\n",
       "    </tr>\n",
       "    <tr>\n",
       "      <th>26</th>\n",
       "      <td>Cambodia</td>\n",
       "      <td>78.000000</td>\n",
       "      <td>78.000000</td>\n",
       "      <td>78.300003</td>\n",
       "      <td>78.400002</td>\n",
       "      <td>77.599998</td>\n",
       "      <td>76.599998</td>\n",
       "      <td>76.400002</td>\n",
       "      <td>77.300003</td>\n",
       "      <td>77.400002</td>\n",
       "      <td>77.599998</td>\n",
       "      <td>79.800003</td>\n",
       "      <td>79.599998</td>\n",
       "      <td>79.300003</td>\n",
       "      <td>79.099998</td>\n",
       "      <td>78.900002</td>\n",
       "      <td>78.400002</td>\n",
       "      <td>78.900002</td>\n",
       "      <td>NaN</td>\n",
       "    </tr>\n",
       "    <tr>\n",
       "      <th>27</th>\n",
       "      <td>Cameroon</td>\n",
       "      <td>59.400002</td>\n",
       "      <td>59.299999</td>\n",
       "      <td>59.200001</td>\n",
       "      <td>59.099998</td>\n",
       "      <td>59.000000</td>\n",
       "      <td>59.900002</td>\n",
       "      <td>60.000000</td>\n",
       "      <td>60.099998</td>\n",
       "      <td>60.099998</td>\n",
       "      <td>60.200001</td>\n",
       "      <td>60.099998</td>\n",
       "      <td>60.000000</td>\n",
       "      <td>59.900002</td>\n",
       "      <td>59.900002</td>\n",
       "      <td>59.799999</td>\n",
       "      <td>59.700001</td>\n",
       "      <td>59.099998</td>\n",
       "      <td>NaN</td>\n",
       "    </tr>\n",
       "    <tr>\n",
       "      <th>28</th>\n",
       "      <td>Canada</td>\n",
       "      <td>59.400002</td>\n",
       "      <td>58.000000</td>\n",
       "      <td>57.599998</td>\n",
       "      <td>58.000000</td>\n",
       "      <td>58.299999</td>\n",
       "      <td>58.000000</td>\n",
       "      <td>58.500000</td>\n",
       "      <td>59.299999</td>\n",
       "      <td>60.200001</td>\n",
       "      <td>60.799999</td>\n",
       "      <td>60.700001</td>\n",
       "      <td>61.299999</td>\n",
       "      <td>62.000000</td>\n",
       "      <td>62.200001</td>\n",
       "      <td>62.200001</td>\n",
       "      <td>62.500000</td>\n",
       "      <td>63.500000</td>\n",
       "      <td>NaN</td>\n",
       "    </tr>\n",
       "    <tr>\n",
       "      <th>29</th>\n",
       "      <td>Cape Verde</td>\n",
       "      <td>56.500000</td>\n",
       "      <td>56.599998</td>\n",
       "      <td>56.799999</td>\n",
       "      <td>56.700001</td>\n",
       "      <td>56.700001</td>\n",
       "      <td>56.500000</td>\n",
       "      <td>56.299999</td>\n",
       "      <td>56.099998</td>\n",
       "      <td>55.900002</td>\n",
       "      <td>55.700001</td>\n",
       "      <td>55.500000</td>\n",
       "      <td>55.299999</td>\n",
       "      <td>55.299999</td>\n",
       "      <td>55.299999</td>\n",
       "      <td>55.400002</td>\n",
       "      <td>55.500000</td>\n",
       "      <td>55.900002</td>\n",
       "      <td>NaN</td>\n",
       "    </tr>\n",
       "    <tr>\n",
       "      <th>...</th>\n",
       "      <td>...</td>\n",
       "      <td>...</td>\n",
       "      <td>...</td>\n",
       "      <td>...</td>\n",
       "      <td>...</td>\n",
       "      <td>...</td>\n",
       "      <td>...</td>\n",
       "      <td>...</td>\n",
       "      <td>...</td>\n",
       "      <td>...</td>\n",
       "      <td>...</td>\n",
       "      <td>...</td>\n",
       "      <td>...</td>\n",
       "      <td>...</td>\n",
       "      <td>...</td>\n",
       "      <td>...</td>\n",
       "      <td>...</td>\n",
       "      <td>...</td>\n",
       "      <td>...</td>\n",
       "    </tr>\n",
       "    <tr>\n",
       "      <th>149</th>\n",
       "      <td>Sudan</td>\n",
       "      <td>46.200001</td>\n",
       "      <td>45.900002</td>\n",
       "      <td>45.799999</td>\n",
       "      <td>46.400002</td>\n",
       "      <td>46.900002</td>\n",
       "      <td>47.200001</td>\n",
       "      <td>47.400002</td>\n",
       "      <td>47.200001</td>\n",
       "      <td>47.099998</td>\n",
       "      <td>47.200001</td>\n",
       "      <td>47.099998</td>\n",
       "      <td>47.099998</td>\n",
       "      <td>47.000000</td>\n",
       "      <td>47.000000</td>\n",
       "      <td>46.900002</td>\n",
       "      <td>47.000000</td>\n",
       "      <td>47.299999</td>\n",
       "      <td>NaN</td>\n",
       "    </tr>\n",
       "    <tr>\n",
       "      <th>150</th>\n",
       "      <td>Suriname</td>\n",
       "      <td>44.599998</td>\n",
       "      <td>42.599998</td>\n",
       "      <td>42.799999</td>\n",
       "      <td>43.200001</td>\n",
       "      <td>45.200001</td>\n",
       "      <td>44.299999</td>\n",
       "      <td>44.599998</td>\n",
       "      <td>44.500000</td>\n",
       "      <td>43.099998</td>\n",
       "      <td>43.200001</td>\n",
       "      <td>43.700001</td>\n",
       "      <td>43.500000</td>\n",
       "      <td>44.000000</td>\n",
       "      <td>44.299999</td>\n",
       "      <td>44.400002</td>\n",
       "      <td>45.000000</td>\n",
       "      <td>44.700001</td>\n",
       "      <td>NaN</td>\n",
       "    </tr>\n",
       "    <tr>\n",
       "      <th>151</th>\n",
       "      <td>Swaziland</td>\n",
       "      <td>54.200001</td>\n",
       "      <td>54.299999</td>\n",
       "      <td>54.299999</td>\n",
       "      <td>54.299999</td>\n",
       "      <td>55.900002</td>\n",
       "      <td>55.200001</td>\n",
       "      <td>54.700001</td>\n",
       "      <td>54.299999</td>\n",
       "      <td>54.000000</td>\n",
       "      <td>53.599998</td>\n",
       "      <td>53.099998</td>\n",
       "      <td>52.599998</td>\n",
       "      <td>52.200001</td>\n",
       "      <td>51.799999</td>\n",
       "      <td>51.400002</td>\n",
       "      <td>51.000000</td>\n",
       "      <td>50.900002</td>\n",
       "      <td>NaN</td>\n",
       "    </tr>\n",
       "    <tr>\n",
       "      <th>152</th>\n",
       "      <td>Sweden</td>\n",
       "      <td>64.900002</td>\n",
       "      <td>61.799999</td>\n",
       "      <td>58.000000</td>\n",
       "      <td>57.200001</td>\n",
       "      <td>57.799999</td>\n",
       "      <td>57.099998</td>\n",
       "      <td>56.400002</td>\n",
       "      <td>57.200001</td>\n",
       "      <td>58.299999</td>\n",
       "      <td>59.900002</td>\n",
       "      <td>60.599998</td>\n",
       "      <td>60.400002</td>\n",
       "      <td>60.000000</td>\n",
       "      <td>59.200001</td>\n",
       "      <td>59.700001</td>\n",
       "      <td>60.299999</td>\n",
       "      <td>60.700001</td>\n",
       "      <td>NaN</td>\n",
       "    </tr>\n",
       "    <tr>\n",
       "      <th>153</th>\n",
       "      <td>Switzerland</td>\n",
       "      <td>67.699997</td>\n",
       "      <td>67.099998</td>\n",
       "      <td>66.500000</td>\n",
       "      <td>65.599998</td>\n",
       "      <td>65.699997</td>\n",
       "      <td>65.699997</td>\n",
       "      <td>65.199997</td>\n",
       "      <td>66.000000</td>\n",
       "      <td>66.300003</td>\n",
       "      <td>66.099998</td>\n",
       "      <td>66.599998</td>\n",
       "      <td>66.099998</td>\n",
       "      <td>65.300003</td>\n",
       "      <td>64.500000</td>\n",
       "      <td>64.099998</td>\n",
       "      <td>64.699997</td>\n",
       "      <td>64.300003</td>\n",
       "      <td>NaN</td>\n",
       "    </tr>\n",
       "    <tr>\n",
       "      <th>154</th>\n",
       "      <td>Syria</td>\n",
       "      <td>46.799999</td>\n",
       "      <td>47.200001</td>\n",
       "      <td>47.599998</td>\n",
       "      <td>48.200001</td>\n",
       "      <td>48.900002</td>\n",
       "      <td>45.099998</td>\n",
       "      <td>40.900002</td>\n",
       "      <td>43.099998</td>\n",
       "      <td>45.900002</td>\n",
       "      <td>48.200001</td>\n",
       "      <td>45.799999</td>\n",
       "      <td>47.200001</td>\n",
       "      <td>43.799999</td>\n",
       "      <td>44.200001</td>\n",
       "      <td>44.500000</td>\n",
       "      <td>44.799999</td>\n",
       "      <td>44.799999</td>\n",
       "      <td>NaN</td>\n",
       "    </tr>\n",
       "    <tr>\n",
       "      <th>155</th>\n",
       "      <td>Taiwan</td>\n",
       "      <td>56.900002</td>\n",
       "      <td>56.599998</td>\n",
       "      <td>56.900002</td>\n",
       "      <td>56.599998</td>\n",
       "      <td>56.200001</td>\n",
       "      <td>55.500000</td>\n",
       "      <td>55.299999</td>\n",
       "      <td>55.000000</td>\n",
       "      <td>54.700001</td>\n",
       "      <td>54.200001</td>\n",
       "      <td>53.500000</td>\n",
       "      <td>53.299999</td>\n",
       "      <td>53.700001</td>\n",
       "      <td>54.000000</td>\n",
       "      <td>54.299999</td>\n",
       "      <td>54.299999</td>\n",
       "      <td>54.500000</td>\n",
       "      <td>NaN</td>\n",
       "    </tr>\n",
       "    <tr>\n",
       "      <th>156</th>\n",
       "      <td>Tajikistan</td>\n",
       "      <td>54.299999</td>\n",
       "      <td>52.299999</td>\n",
       "      <td>50.500000</td>\n",
       "      <td>47.599998</td>\n",
       "      <td>45.700001</td>\n",
       "      <td>42.700001</td>\n",
       "      <td>42.900002</td>\n",
       "      <td>43.799999</td>\n",
       "      <td>44.299999</td>\n",
       "      <td>45.400002</td>\n",
       "      <td>47.400002</td>\n",
       "      <td>48.000000</td>\n",
       "      <td>49.400002</td>\n",
       "      <td>50.099998</td>\n",
       "      <td>50.500000</td>\n",
       "      <td>51.200001</td>\n",
       "      <td>54.599998</td>\n",
       "      <td>NaN</td>\n",
       "    </tr>\n",
       "    <tr>\n",
       "      <th>157</th>\n",
       "      <td>Tanzania</td>\n",
       "      <td>87.500000</td>\n",
       "      <td>87.199997</td>\n",
       "      <td>87.000000</td>\n",
       "      <td>86.699997</td>\n",
       "      <td>86.500000</td>\n",
       "      <td>86.000000</td>\n",
       "      <td>86.099998</td>\n",
       "      <td>85.900002</td>\n",
       "      <td>85.699997</td>\n",
       "      <td>85.099998</td>\n",
       "      <td>84.300003</td>\n",
       "      <td>83.300003</td>\n",
       "      <td>82.300003</td>\n",
       "      <td>81.000000</td>\n",
       "      <td>79.400002</td>\n",
       "      <td>78.099998</td>\n",
       "      <td>78.199997</td>\n",
       "      <td>NaN</td>\n",
       "    </tr>\n",
       "    <tr>\n",
       "      <th>158</th>\n",
       "      <td>Thailand</td>\n",
       "      <td>77.699997</td>\n",
       "      <td>77.099998</td>\n",
       "      <td>75.300003</td>\n",
       "      <td>73.699997</td>\n",
       "      <td>74.300003</td>\n",
       "      <td>74.599998</td>\n",
       "      <td>74.699997</td>\n",
       "      <td>72.000000</td>\n",
       "      <td>71.199997</td>\n",
       "      <td>71.900002</td>\n",
       "      <td>71.900002</td>\n",
       "      <td>72.300003</td>\n",
       "      <td>72.300003</td>\n",
       "      <td>72.400002</td>\n",
       "      <td>72.599998</td>\n",
       "      <td>72.099998</td>\n",
       "      <td>72.000000</td>\n",
       "      <td>NaN</td>\n",
       "    </tr>\n",
       "    <tr>\n",
       "      <th>159</th>\n",
       "      <td>Macedonia, FYR</td>\n",
       "      <td>37.599998</td>\n",
       "      <td>36.900002</td>\n",
       "      <td>35.900002</td>\n",
       "      <td>36.299999</td>\n",
       "      <td>36.400002</td>\n",
       "      <td>35.099998</td>\n",
       "      <td>34.500000</td>\n",
       "      <td>35.099998</td>\n",
       "      <td>35.799999</td>\n",
       "      <td>35.900002</td>\n",
       "      <td>37.299999</td>\n",
       "      <td>36.200001</td>\n",
       "      <td>33.900002</td>\n",
       "      <td>32.299999</td>\n",
       "      <td>33.200001</td>\n",
       "      <td>34.599998</td>\n",
       "      <td>34.900002</td>\n",
       "      <td>NaN</td>\n",
       "    </tr>\n",
       "    <tr>\n",
       "      <th>160</th>\n",
       "      <td>Togo</td>\n",
       "      <td>65.199997</td>\n",
       "      <td>65.000000</td>\n",
       "      <td>64.500000</td>\n",
       "      <td>65.000000</td>\n",
       "      <td>64.900002</td>\n",
       "      <td>64.800003</td>\n",
       "      <td>64.800003</td>\n",
       "      <td>64.599998</td>\n",
       "      <td>64.500000</td>\n",
       "      <td>64.400002</td>\n",
       "      <td>64.199997</td>\n",
       "      <td>64.199997</td>\n",
       "      <td>64.199997</td>\n",
       "      <td>64.099998</td>\n",
       "      <td>64.000000</td>\n",
       "      <td>64.000000</td>\n",
       "      <td>63.900002</td>\n",
       "      <td>NaN</td>\n",
       "    </tr>\n",
       "    <tr>\n",
       "      <th>161</th>\n",
       "      <td>Trinidad and Tobago</td>\n",
       "      <td>45.000000</td>\n",
       "      <td>45.799999</td>\n",
       "      <td>46.700001</td>\n",
       "      <td>48.500000</td>\n",
       "      <td>49.900002</td>\n",
       "      <td>51.299999</td>\n",
       "      <td>52.200001</td>\n",
       "      <td>52.799999</td>\n",
       "      <td>53.500000</td>\n",
       "      <td>54.000000</td>\n",
       "      <td>54.900002</td>\n",
       "      <td>55.200001</td>\n",
       "      <td>56.200001</td>\n",
       "      <td>58.599998</td>\n",
       "      <td>60.000000</td>\n",
       "      <td>62.599998</td>\n",
       "      <td>61.500000</td>\n",
       "      <td>NaN</td>\n",
       "    </tr>\n",
       "    <tr>\n",
       "      <th>162</th>\n",
       "      <td>Tunisia</td>\n",
       "      <td>40.700001</td>\n",
       "      <td>40.700001</td>\n",
       "      <td>40.700001</td>\n",
       "      <td>41.000000</td>\n",
       "      <td>41.000000</td>\n",
       "      <td>40.900002</td>\n",
       "      <td>40.900002</td>\n",
       "      <td>40.700001</td>\n",
       "      <td>40.700001</td>\n",
       "      <td>40.700001</td>\n",
       "      <td>40.900002</td>\n",
       "      <td>40.799999</td>\n",
       "      <td>41.099998</td>\n",
       "      <td>41.200001</td>\n",
       "      <td>41.200001</td>\n",
       "      <td>41.400002</td>\n",
       "      <td>41.599998</td>\n",
       "      <td>NaN</td>\n",
       "    </tr>\n",
       "    <tr>\n",
       "      <th>163</th>\n",
       "      <td>Turkey</td>\n",
       "      <td>53.000000</td>\n",
       "      <td>52.000000</td>\n",
       "      <td>48.299999</td>\n",
       "      <td>50.799999</td>\n",
       "      <td>50.799999</td>\n",
       "      <td>50.900002</td>\n",
       "      <td>49.700001</td>\n",
       "      <td>49.799999</td>\n",
       "      <td>49.200001</td>\n",
       "      <td>47.200001</td>\n",
       "      <td>46.000000</td>\n",
       "      <td>44.799999</td>\n",
       "      <td>43.500000</td>\n",
       "      <td>44.000000</td>\n",
       "      <td>43.700001</td>\n",
       "      <td>43.500000</td>\n",
       "      <td>42.799999</td>\n",
       "      <td>NaN</td>\n",
       "    </tr>\n",
       "    <tr>\n",
       "      <th>164</th>\n",
       "      <td>Turkmenistan</td>\n",
       "      <td>56.099998</td>\n",
       "      <td>56.400002</td>\n",
       "      <td>56.700001</td>\n",
       "      <td>56.900002</td>\n",
       "      <td>56.900002</td>\n",
       "      <td>56.200001</td>\n",
       "      <td>55.299999</td>\n",
       "      <td>57.599998</td>\n",
       "      <td>59.000000</td>\n",
       "      <td>59.400002</td>\n",
       "      <td>59.500000</td>\n",
       "      <td>59.099998</td>\n",
       "      <td>59.099998</td>\n",
       "      <td>58.700001</td>\n",
       "      <td>58.400002</td>\n",
       "      <td>58.200001</td>\n",
       "      <td>58.500000</td>\n",
       "      <td>NaN</td>\n",
       "    </tr>\n",
       "    <tr>\n",
       "      <th>165</th>\n",
       "      <td>Uganda</td>\n",
       "      <td>85.000000</td>\n",
       "      <td>84.800003</td>\n",
       "      <td>84.199997</td>\n",
       "      <td>83.400002</td>\n",
       "      <td>83.599998</td>\n",
       "      <td>83.800003</td>\n",
       "      <td>84.000000</td>\n",
       "      <td>84.699997</td>\n",
       "      <td>84.400002</td>\n",
       "      <td>83.900002</td>\n",
       "      <td>84.099998</td>\n",
       "      <td>83.599998</td>\n",
       "      <td>83.199997</td>\n",
       "      <td>83.199997</td>\n",
       "      <td>83.099998</td>\n",
       "      <td>83.099998</td>\n",
       "      <td>83.199997</td>\n",
       "      <td>NaN</td>\n",
       "    </tr>\n",
       "    <tr>\n",
       "      <th>166</th>\n",
       "      <td>Ukraine</td>\n",
       "      <td>58.500000</td>\n",
       "      <td>57.799999</td>\n",
       "      <td>58.099998</td>\n",
       "      <td>58.400002</td>\n",
       "      <td>58.400002</td>\n",
       "      <td>58.099998</td>\n",
       "      <td>58.099998</td>\n",
       "      <td>57.400002</td>\n",
       "      <td>49.599998</td>\n",
       "      <td>50.099998</td>\n",
       "      <td>50.900002</td>\n",
       "      <td>51.700001</td>\n",
       "      <td>51.799999</td>\n",
       "      <td>52.200001</td>\n",
       "      <td>53.599998</td>\n",
       "      <td>53.799999</td>\n",
       "      <td>54.400002</td>\n",
       "      <td>NaN</td>\n",
       "    </tr>\n",
       "    <tr>\n",
       "      <th>167</th>\n",
       "      <td>United Arab Emirates</td>\n",
       "      <td>71.300003</td>\n",
       "      <td>71.599998</td>\n",
       "      <td>71.900002</td>\n",
       "      <td>72.599998</td>\n",
       "      <td>73.199997</td>\n",
       "      <td>73.000000</td>\n",
       "      <td>72.900002</td>\n",
       "      <td>73.699997</td>\n",
       "      <td>73.900002</td>\n",
       "      <td>74.500000</td>\n",
       "      <td>74.900002</td>\n",
       "      <td>75.300003</td>\n",
       "      <td>75.500000</td>\n",
       "      <td>75.400002</td>\n",
       "      <td>75.199997</td>\n",
       "      <td>75.000000</td>\n",
       "      <td>75.199997</td>\n",
       "      <td>NaN</td>\n",
       "    </tr>\n",
       "    <tr>\n",
       "      <th>168</th>\n",
       "      <td>United Kingdom</td>\n",
       "      <td>57.900002</td>\n",
       "      <td>56.500000</td>\n",
       "      <td>55.599998</td>\n",
       "      <td>55.900002</td>\n",
       "      <td>56.400002</td>\n",
       "      <td>56.799999</td>\n",
       "      <td>57.599998</td>\n",
       "      <td>57.900002</td>\n",
       "      <td>58.400002</td>\n",
       "      <td>58.900002</td>\n",
       "      <td>59.000000</td>\n",
       "      <td>59.000000</td>\n",
       "      <td>59.299999</td>\n",
       "      <td>59.400002</td>\n",
       "      <td>59.400002</td>\n",
       "      <td>59.400002</td>\n",
       "      <td>59.299999</td>\n",
       "      <td>NaN</td>\n",
       "    </tr>\n",
       "    <tr>\n",
       "      <th>169</th>\n",
       "      <td>United States</td>\n",
       "      <td>61.299999</td>\n",
       "      <td>61.099998</td>\n",
       "      <td>61.400002</td>\n",
       "      <td>62.200001</td>\n",
       "      <td>62.599998</td>\n",
       "      <td>62.900002</td>\n",
       "      <td>63.400002</td>\n",
       "      <td>63.799999</td>\n",
       "      <td>64.000000</td>\n",
       "      <td>64.199997</td>\n",
       "      <td>63.299999</td>\n",
       "      <td>62.299999</td>\n",
       "      <td>61.799999</td>\n",
       "      <td>61.799999</td>\n",
       "      <td>62.200001</td>\n",
       "      <td>62.599998</td>\n",
       "      <td>62.299999</td>\n",
       "      <td>NaN</td>\n",
       "    </tr>\n",
       "    <tr>\n",
       "      <th>170</th>\n",
       "      <td>Uruguay</td>\n",
       "      <td>54.000000</td>\n",
       "      <td>55.299999</td>\n",
       "      <td>54.000000</td>\n",
       "      <td>55.299999</td>\n",
       "      <td>55.900002</td>\n",
       "      <td>55.700001</td>\n",
       "      <td>55.700001</td>\n",
       "      <td>55.799999</td>\n",
       "      <td>56.000000</td>\n",
       "      <td>56.200001</td>\n",
       "      <td>56.299999</td>\n",
       "      <td>56.500000</td>\n",
       "      <td>56.599998</td>\n",
       "      <td>56.700001</td>\n",
       "      <td>56.799999</td>\n",
       "      <td>56.700001</td>\n",
       "      <td>57.500000</td>\n",
       "      <td>NaN</td>\n",
       "    </tr>\n",
       "    <tr>\n",
       "      <th>171</th>\n",
       "      <td>Uzbekistan</td>\n",
       "      <td>54.500000</td>\n",
       "      <td>53.299999</td>\n",
       "      <td>52.900002</td>\n",
       "      <td>52.400002</td>\n",
       "      <td>52.200001</td>\n",
       "      <td>52.500000</td>\n",
       "      <td>53.099998</td>\n",
       "      <td>53.599998</td>\n",
       "      <td>53.900002</td>\n",
       "      <td>54.200001</td>\n",
       "      <td>54.500000</td>\n",
       "      <td>54.700001</td>\n",
       "      <td>55.000000</td>\n",
       "      <td>55.700001</td>\n",
       "      <td>56.099998</td>\n",
       "      <td>56.500000</td>\n",
       "      <td>57.500000</td>\n",
       "      <td>NaN</td>\n",
       "    </tr>\n",
       "    <tr>\n",
       "      <th>172</th>\n",
       "      <td>Venezuela</td>\n",
       "      <td>51.599998</td>\n",
       "      <td>52.799999</td>\n",
       "      <td>53.900002</td>\n",
       "      <td>53.299999</td>\n",
       "      <td>53.000000</td>\n",
       "      <td>52.299999</td>\n",
       "      <td>53.700001</td>\n",
       "      <td>54.099998</td>\n",
       "      <td>52.700001</td>\n",
       "      <td>54.000000</td>\n",
       "      <td>54.900002</td>\n",
       "      <td>53.500000</td>\n",
       "      <td>53.700001</td>\n",
       "      <td>55.200001</td>\n",
       "      <td>56.799999</td>\n",
       "      <td>59.700001</td>\n",
       "      <td>59.900002</td>\n",
       "      <td>NaN</td>\n",
       "    </tr>\n",
       "    <tr>\n",
       "      <th>173</th>\n",
       "      <td>Vietnam</td>\n",
       "      <td>75.599998</td>\n",
       "      <td>75.599998</td>\n",
       "      <td>75.000000</td>\n",
       "      <td>75.500000</td>\n",
       "      <td>75.400002</td>\n",
       "      <td>75.400002</td>\n",
       "      <td>73.400002</td>\n",
       "      <td>73.400002</td>\n",
       "      <td>73.300003</td>\n",
       "      <td>72.000000</td>\n",
       "      <td>72.400002</td>\n",
       "      <td>72.400002</td>\n",
       "      <td>72.099998</td>\n",
       "      <td>71.599998</td>\n",
       "      <td>71.400002</td>\n",
       "      <td>71.199997</td>\n",
       "      <td>71.000000</td>\n",
       "      <td>NaN</td>\n",
       "    </tr>\n",
       "    <tr>\n",
       "      <th>174</th>\n",
       "      <td>West Bank and Gaza</td>\n",
       "      <td>29.299999</td>\n",
       "      <td>29.799999</td>\n",
       "      <td>30.400000</td>\n",
       "      <td>26.799999</td>\n",
       "      <td>32.599998</td>\n",
       "      <td>29.500000</td>\n",
       "      <td>31.000000</td>\n",
       "      <td>33.400002</td>\n",
       "      <td>34.599998</td>\n",
       "      <td>33.599998</td>\n",
       "      <td>29.400000</td>\n",
       "      <td>26.600000</td>\n",
       "      <td>29.400000</td>\n",
       "      <td>29.700001</td>\n",
       "      <td>31.400000</td>\n",
       "      <td>31.600000</td>\n",
       "      <td>32.000000</td>\n",
       "      <td>NaN</td>\n",
       "    </tr>\n",
       "    <tr>\n",
       "      <th>175</th>\n",
       "      <td>Yemen, Rep.</td>\n",
       "      <td>38.299999</td>\n",
       "      <td>38.200001</td>\n",
       "      <td>38.000000</td>\n",
       "      <td>39.400002</td>\n",
       "      <td>39.200001</td>\n",
       "      <td>38.799999</td>\n",
       "      <td>39.099998</td>\n",
       "      <td>39.299999</td>\n",
       "      <td>38.200001</td>\n",
       "      <td>38.299999</td>\n",
       "      <td>38.299999</td>\n",
       "      <td>38.400002</td>\n",
       "      <td>38.599998</td>\n",
       "      <td>38.700001</td>\n",
       "      <td>39.000000</td>\n",
       "      <td>39.099998</td>\n",
       "      <td>39.000000</td>\n",
       "      <td>NaN</td>\n",
       "    </tr>\n",
       "    <tr>\n",
       "      <th>176</th>\n",
       "      <td>Zambia</td>\n",
       "      <td>57.000000</td>\n",
       "      <td>56.599998</td>\n",
       "      <td>56.200001</td>\n",
       "      <td>56.700001</td>\n",
       "      <td>57.299999</td>\n",
       "      <td>59.000000</td>\n",
       "      <td>60.099998</td>\n",
       "      <td>61.299999</td>\n",
       "      <td>61.000000</td>\n",
       "      <td>60.700001</td>\n",
       "      <td>60.700001</td>\n",
       "      <td>60.700001</td>\n",
       "      <td>60.700001</td>\n",
       "      <td>60.799999</td>\n",
       "      <td>60.799999</td>\n",
       "      <td>60.799999</td>\n",
       "      <td>61.000000</td>\n",
       "      <td>NaN</td>\n",
       "    </tr>\n",
       "    <tr>\n",
       "      <th>177</th>\n",
       "      <td>Zimbabwe</td>\n",
       "      <td>70.199997</td>\n",
       "      <td>69.800003</td>\n",
       "      <td>69.400002</td>\n",
       "      <td>70.599998</td>\n",
       "      <td>70.099998</td>\n",
       "      <td>69.699997</td>\n",
       "      <td>68.900002</td>\n",
       "      <td>68.099998</td>\n",
       "      <td>67.300003</td>\n",
       "      <td>67.599998</td>\n",
       "      <td>67.699997</td>\n",
       "      <td>67.599998</td>\n",
       "      <td>67.400002</td>\n",
       "      <td>67.400002</td>\n",
       "      <td>67.199997</td>\n",
       "      <td>66.900002</td>\n",
       "      <td>66.800003</td>\n",
       "      <td>NaN</td>\n",
       "    </tr>\n",
       "    <tr>\n",
       "      <th>178</th>\n",
       "      <td>NaN</td>\n",
       "      <td>NaN</td>\n",
       "      <td>NaN</td>\n",
       "      <td>NaN</td>\n",
       "      <td>NaN</td>\n",
       "      <td>NaN</td>\n",
       "      <td>NaN</td>\n",
       "      <td>NaN</td>\n",
       "      <td>NaN</td>\n",
       "      <td>NaN</td>\n",
       "      <td>NaN</td>\n",
       "      <td>NaN</td>\n",
       "      <td>NaN</td>\n",
       "      <td>NaN</td>\n",
       "      <td>NaN</td>\n",
       "      <td>NaN</td>\n",
       "      <td>NaN</td>\n",
       "      <td>NaN</td>\n",
       "      <td>NaN</td>\n",
       "    </tr>\n",
       "  </tbody>\n",
       "</table>\n",
       "<p>179 rows 횞 19 columns</p>\n",
       "</div>"
      ],
      "text/plain": [
       "    Total above 15 employment to population (%)       1991       1992  \\\n",
       "0                                   Afghanistan  56.700001  56.500000   \n",
       "1                                       Albania  52.700001  52.299999   \n",
       "2                                       Algeria  39.400002  38.900002   \n",
       "3                                        Angola  75.800003  75.800003   \n",
       "4                                     Argentina  53.599998  53.799999   \n",
       "5                                       Armenia  39.299999  38.200001   \n",
       "6                                     Australia  57.200001  56.200001   \n",
       "7                                       Austria  54.200001  54.900002   \n",
       "8                                    Azerbaijan  56.900002  56.799999   \n",
       "9                                       Bahamas  63.000000  61.299999   \n",
       "10                                      Bahrain  61.200001  61.400002   \n",
       "11                                   Bangladesh  74.500000  72.500000   \n",
       "12                                     Barbados  56.900002  53.700001   \n",
       "13                                      Belarus  59.200001  58.299999   \n",
       "14                                      Belgium  45.700001  46.099998   \n",
       "15                                       Belize  47.599998  49.200001   \n",
       "16                                        Benin  70.599998  72.099998   \n",
       "17                                       Bhutan  53.700001  52.500000   \n",
       "18                                      Bolivia  61.500000  61.000000   \n",
       "19                       Bosnia and Herzegovina  51.599998  50.099998   \n",
       "20                                     Botswana  48.900002  48.000000   \n",
       "21                                       Brazil  56.099998  59.500000   \n",
       "22                                       Brunei  62.599998  62.799999   \n",
       "23                                     Bulgaria  46.400002  48.900002   \n",
       "24                                 Burkina Faso  80.699997  80.699997   \n",
       "25                                      Burundi  84.199997  84.300003   \n",
       "26                                     Cambodia  78.000000  78.000000   \n",
       "27                                     Cameroon  59.400002  59.299999   \n",
       "28                                       Canada  59.400002  58.000000   \n",
       "29                                   Cape Verde  56.500000  56.599998   \n",
       "..                                          ...        ...        ...   \n",
       "149                                       Sudan  46.200001  45.900002   \n",
       "150                                    Suriname  44.599998  42.599998   \n",
       "151                                   Swaziland  54.200001  54.299999   \n",
       "152                                      Sweden  64.900002  61.799999   \n",
       "153                                 Switzerland  67.699997  67.099998   \n",
       "154                                       Syria  46.799999  47.200001   \n",
       "155                                      Taiwan  56.900002  56.599998   \n",
       "156                                  Tajikistan  54.299999  52.299999   \n",
       "157                                    Tanzania  87.500000  87.199997   \n",
       "158                                    Thailand  77.699997  77.099998   \n",
       "159                              Macedonia, FYR  37.599998  36.900002   \n",
       "160                                        Togo  65.199997  65.000000   \n",
       "161                         Trinidad and Tobago  45.000000  45.799999   \n",
       "162                                     Tunisia  40.700001  40.700001   \n",
       "163                                      Turkey  53.000000  52.000000   \n",
       "164                                Turkmenistan  56.099998  56.400002   \n",
       "165                                      Uganda  85.000000  84.800003   \n",
       "166                                     Ukraine  58.500000  57.799999   \n",
       "167                        United Arab Emirates  71.300003  71.599998   \n",
       "168                              United Kingdom  57.900002  56.500000   \n",
       "169                               United States  61.299999  61.099998   \n",
       "170                                     Uruguay  54.000000  55.299999   \n",
       "171                                  Uzbekistan  54.500000  53.299999   \n",
       "172                                   Venezuela  51.599998  52.799999   \n",
       "173                                     Vietnam  75.599998  75.599998   \n",
       "174                          West Bank and Gaza  29.299999  29.799999   \n",
       "175                                 Yemen, Rep.  38.299999  38.200001   \n",
       "176                                      Zambia  57.000000  56.599998   \n",
       "177                                    Zimbabwe  70.199997  69.800003   \n",
       "178                                         NaN        NaN        NaN   \n",
       "\n",
       "          1993       1994       1995       1996       1997       1998  \\\n",
       "0    56.599998  56.200001  56.200001  56.099998  56.200001  56.200001   \n",
       "1    52.400002  52.700001  52.799999  52.599998  52.400002  52.099998   \n",
       "2    39.400002  39.400002  38.099998  38.900002  39.700001  39.500000   \n",
       "3    75.500000  75.900002  75.800003  75.900002  75.699997  75.599998   \n",
       "4    53.700001  53.799999  53.500000  54.400002  54.900002  55.000000   \n",
       "5    37.400002  37.400002  37.099998  38.099998  37.400002  38.099998   \n",
       "6    55.900002  56.900002  58.400002  58.200001  57.900002  58.299999   \n",
       "7    54.700001  56.400002  56.700001  55.799999  55.799999  55.599998   \n",
       "8    56.599998  56.200001  55.400002  55.799999  56.599998  56.700001   \n",
       "9    62.799999  62.700001  64.500000  64.099998  65.199997  66.599998   \n",
       "10   61.500000  61.799999  61.900002  61.900002  61.599998  61.599998   \n",
       "11   73.000000  71.800003  70.500000  70.400002  69.900002  69.900002   \n",
       "12   52.500000  54.900002  58.000000  61.200001  61.400002  63.099998   \n",
       "13   57.400002  56.599998  55.700001  55.200001  55.099998  54.000000   \n",
       "14   45.500000  45.299999  45.599998  45.500000  45.799999  45.900002   \n",
       "15   51.299999  52.299999  51.700001  51.099998  52.099998  51.500000   \n",
       "16   72.300003  72.500000  72.599998  72.599998  72.500000  72.300003   \n",
       "17   52.000000  51.000000  50.299999  50.200001  50.099998  50.200001   \n",
       "18   61.000000  60.900002  60.700001  61.799999  67.599998  67.699997   \n",
       "19   48.000000  47.599998  47.700001  47.900002  47.000000  46.099998   \n",
       "20   47.000000  45.299999  44.000000  42.799999  45.700001  48.200001   \n",
       "21   60.099998  60.599998  61.099998  60.400002  60.700001  60.500000   \n",
       "22   62.900002  63.099998  63.299999  63.500000  63.700001  64.000000   \n",
       "23   44.299999  44.200001  45.599998  45.700001  44.599998  44.200001   \n",
       "24   80.699997  80.800003  80.900002  81.000000  81.000000  81.099998   \n",
       "25   84.500000  84.699997  84.800003  84.800003  84.900002  84.800003   \n",
       "26   78.300003  78.400002  77.599998  76.599998  76.400002  77.300003   \n",
       "27   59.200001  59.099998  59.000000  59.900002  60.000000  60.099998   \n",
       "28   57.599998  58.000000  58.299999  58.000000  58.500000  59.299999   \n",
       "29   56.799999  56.700001  56.700001  56.500000  56.299999  56.099998   \n",
       "..         ...        ...        ...        ...        ...        ...   \n",
       "149  45.799999  46.400002  46.900002  47.200001  47.400002  47.200001   \n",
       "150  42.799999  43.200001  45.200001  44.299999  44.599998  44.500000   \n",
       "151  54.299999  54.299999  55.900002  55.200001  54.700001  54.299999   \n",
       "152  58.000000  57.200001  57.799999  57.099998  56.400002  57.200001   \n",
       "153  66.500000  65.599998  65.699997  65.699997  65.199997  66.000000   \n",
       "154  47.599998  48.200001  48.900002  45.099998  40.900002  43.099998   \n",
       "155  56.900002  56.599998  56.200001  55.500000  55.299999  55.000000   \n",
       "156  50.500000  47.599998  45.700001  42.700001  42.900002  43.799999   \n",
       "157  87.000000  86.699997  86.500000  86.000000  86.099998  85.900002   \n",
       "158  75.300003  73.699997  74.300003  74.599998  74.699997  72.000000   \n",
       "159  35.900002  36.299999  36.400002  35.099998  34.500000  35.099998   \n",
       "160  64.500000  65.000000  64.900002  64.800003  64.800003  64.599998   \n",
       "161  46.700001  48.500000  49.900002  51.299999  52.200001  52.799999   \n",
       "162  40.700001  41.000000  41.000000  40.900002  40.900002  40.700001   \n",
       "163  48.299999  50.799999  50.799999  50.900002  49.700001  49.799999   \n",
       "164  56.700001  56.900002  56.900002  56.200001  55.299999  57.599998   \n",
       "165  84.199997  83.400002  83.599998  83.800003  84.000000  84.699997   \n",
       "166  58.099998  58.400002  58.400002  58.099998  58.099998  57.400002   \n",
       "167  71.900002  72.599998  73.199997  73.000000  72.900002  73.699997   \n",
       "168  55.599998  55.900002  56.400002  56.799999  57.599998  57.900002   \n",
       "169  61.400002  62.200001  62.599998  62.900002  63.400002  63.799999   \n",
       "170  54.000000  55.299999  55.900002  55.700001  55.700001  55.799999   \n",
       "171  52.900002  52.400002  52.200001  52.500000  53.099998  53.599998   \n",
       "172  53.900002  53.299999  53.000000  52.299999  53.700001  54.099998   \n",
       "173  75.000000  75.500000  75.400002  75.400002  73.400002  73.400002   \n",
       "174  30.400000  26.799999  32.599998  29.500000  31.000000  33.400002   \n",
       "175  38.000000  39.400002  39.200001  38.799999  39.099998  39.299999   \n",
       "176  56.200001  56.700001  57.299999  59.000000  60.099998  61.299999   \n",
       "177  69.400002  70.599998  70.099998  69.699997  68.900002  68.099998   \n",
       "178        NaN        NaN        NaN        NaN        NaN        NaN   \n",
       "\n",
       "          1999       2000       2001       2002       2003       2004  \\\n",
       "0    56.099998  56.099998  56.500000  56.400002  54.400002  56.000000   \n",
       "1    52.099998  51.900002  51.799999  51.799999  51.799999  51.700001   \n",
       "2    39.400002  38.599998  40.400002  41.500000  42.799999  46.400002   \n",
       "3    75.599998  75.500000  75.500000  75.599998  75.500000  75.500000   \n",
       "4    54.900002  55.500000  55.599998  55.400002  57.299999  57.700001   \n",
       "5    37.200001  37.799999  38.599998  39.299999  39.500000  38.900002   \n",
       "6    58.700001  59.400002  59.200001  59.500000  59.900002  60.099998   \n",
       "7    56.000000  56.099998  56.099998  56.500000  56.700001  55.700001   \n",
       "8    57.000000  57.400002  57.500000  57.500000  57.900002  59.400002   \n",
       "9    66.699997  67.000000  67.099998  65.599998  64.400002  64.900002   \n",
       "10   61.599998  61.599998  61.700001  61.500000  61.400002  61.200001   \n",
       "11   69.300003  68.900002  68.900002  68.900002  68.500000  68.300003   \n",
       "12   64.400002  65.300003  65.000000  64.599998  64.099998  65.599998   \n",
       "13   52.799999  53.000000  53.000000  53.099998  53.299999  53.599998   \n",
       "14   47.299999  48.700001  47.599998  47.500000  47.200001  48.099998   \n",
       "15   52.700001  54.200001  55.799999  55.599998  55.900002  56.099998   \n",
       "16   72.199997  72.099998  72.000000  72.000000  71.900002  71.800003   \n",
       "17   50.400002  51.400002  52.700001  53.599998  55.900002  57.400002   \n",
       "18   67.699997  67.300003  67.300003  67.800003  68.300003  68.900002   \n",
       "19   45.299999  44.400002  45.099998  44.200001  44.700001  43.099998   \n",
       "20   48.900002  49.500000  45.700001  44.000000  42.400002  40.200001   \n",
       "21   60.700001  61.200001  61.500000  62.400002  62.000000  63.299999   \n",
       "22   64.300003  64.400002  64.599998  64.500000  64.300003  64.199997   \n",
       "23   42.000000  39.299999  41.099998  41.799999  42.900002  44.299999   \n",
       "24   81.099998  81.099998  81.199997  81.199997  81.199997  81.199997   \n",
       "25   84.699997  84.500000  84.300003  84.000000  83.599998  83.400002   \n",
       "26   77.400002  77.599998  79.800003  79.599998  79.300003  79.099998   \n",
       "27   60.099998  60.200001  60.099998  60.000000  59.900002  59.900002   \n",
       "28   60.200001  60.799999  60.700001  61.299999  62.000000  62.200001   \n",
       "29   55.900002  55.700001  55.500000  55.299999  55.299999  55.299999   \n",
       "..         ...        ...        ...        ...        ...        ...   \n",
       "149  47.099998  47.200001  47.099998  47.099998  47.000000  47.000000   \n",
       "150  43.099998  43.200001  43.700001  43.500000  44.000000  44.299999   \n",
       "151  54.000000  53.599998  53.099998  52.599998  52.200001  51.799999   \n",
       "152  58.299999  59.900002  60.599998  60.400002  60.000000  59.200001   \n",
       "153  66.300003  66.099998  66.599998  66.099998  65.300003  64.500000   \n",
       "154  45.900002  48.200001  45.799999  47.200001  43.799999  44.200001   \n",
       "155  54.700001  54.200001  53.500000  53.299999  53.700001  54.000000   \n",
       "156  44.299999  45.400002  47.400002  48.000000  49.400002  50.099998   \n",
       "157  85.699997  85.099998  84.300003  83.300003  82.300003  81.000000   \n",
       "158  71.199997  71.900002  71.900002  72.300003  72.300003  72.400002   \n",
       "159  35.799999  35.900002  37.299999  36.200001  33.900002  32.299999   \n",
       "160  64.500000  64.400002  64.199997  64.199997  64.199997  64.099998   \n",
       "161  53.500000  54.000000  54.900002  55.200001  56.200001  58.599998   \n",
       "162  40.700001  40.700001  40.900002  40.799999  41.099998  41.200001   \n",
       "163  49.200001  47.200001  46.000000  44.799999  43.500000  44.000000   \n",
       "164  59.000000  59.400002  59.500000  59.099998  59.099998  58.700001   \n",
       "165  84.400002  83.900002  84.099998  83.599998  83.199997  83.199997   \n",
       "166  49.599998  50.099998  50.900002  51.700001  51.799999  52.200001   \n",
       "167  73.900002  74.500000  74.900002  75.300003  75.500000  75.400002   \n",
       "168  58.400002  58.900002  59.000000  59.000000  59.299999  59.400002   \n",
       "169  64.000000  64.199997  63.299999  62.299999  61.799999  61.799999   \n",
       "170  56.000000  56.200001  56.299999  56.500000  56.599998  56.700001   \n",
       "171  53.900002  54.200001  54.500000  54.700001  55.000000  55.700001   \n",
       "172  52.700001  54.000000  54.900002  53.500000  53.700001  55.200001   \n",
       "173  73.300003  72.000000  72.400002  72.400002  72.099998  71.599998   \n",
       "174  34.599998  33.599998  29.400000  26.600000  29.400000  29.700001   \n",
       "175  38.200001  38.299999  38.299999  38.400002  38.599998  38.700001   \n",
       "176  61.000000  60.700001  60.700001  60.700001  60.700001  60.799999   \n",
       "177  67.300003  67.599998  67.699997  67.599998  67.400002  67.400002   \n",
       "178        NaN        NaN        NaN        NaN        NaN        NaN   \n",
       "\n",
       "          2005       2006       2007  Unnamed: 18  \n",
       "0    54.000000  56.000000  55.700001          NaN  \n",
       "1    51.500000  51.400002  51.400002          NaN  \n",
       "2    48.000000  50.000000  50.500000          NaN  \n",
       "3    75.599998  75.500000  75.699997          NaN  \n",
       "4    58.099998  58.400002  58.400002          NaN  \n",
       "5    39.500000  39.400002  40.099998          NaN  \n",
       "6    61.200001  61.599998  61.500000          NaN  \n",
       "7    56.200001  57.099998  57.099998          NaN  \n",
       "8    59.000000  59.299999  60.900002          NaN  \n",
       "9    65.000000  66.900002  66.599998          NaN  \n",
       "10   61.000000  60.599998  60.400002          NaN  \n",
       "11   68.599998  68.599998  68.099998          NaN  \n",
       "12   66.099998  66.400002  66.900002          NaN  \n",
       "13   53.700001  53.700001  53.400002          NaN  \n",
       "14   48.500000  48.200001  48.599998          NaN  \n",
       "15   56.099998  57.500000  56.799999          NaN  \n",
       "16   71.699997  71.599998  71.599998          NaN  \n",
       "17   59.099998  59.599998  58.400002          NaN  \n",
       "18   69.400002  70.099998  70.400002          NaN  \n",
       "19   44.200001  41.099998  41.200001          NaN  \n",
       "20   37.799999  45.500000  46.000000          NaN  \n",
       "21   63.200001  64.000000  64.500000          NaN  \n",
       "22   64.099998  64.099998  63.799999          NaN  \n",
       "23   45.400002  47.799999  47.299999          NaN  \n",
       "24   81.199997  81.199997  81.300003          NaN  \n",
       "25   83.199997  83.199997  83.199997          NaN  \n",
       "26   78.900002  78.400002  78.900002          NaN  \n",
       "27   59.799999  59.700001  59.099998          NaN  \n",
       "28   62.200001  62.500000  63.500000          NaN  \n",
       "29   55.400002  55.500000  55.900002          NaN  \n",
       "..         ...        ...        ...          ...  \n",
       "149  46.900002  47.000000  47.299999          NaN  \n",
       "150  44.400002  45.000000  44.700001          NaN  \n",
       "151  51.400002  51.000000  50.900002          NaN  \n",
       "152  59.700001  60.299999  60.700001          NaN  \n",
       "153  64.099998  64.699997  64.300003          NaN  \n",
       "154  44.500000  44.799999  44.799999          NaN  \n",
       "155  54.299999  54.299999  54.500000          NaN  \n",
       "156  50.500000  51.200001  54.599998          NaN  \n",
       "157  79.400002  78.099998  78.199997          NaN  \n",
       "158  72.599998  72.099998  72.000000          NaN  \n",
       "159  33.200001  34.599998  34.900002          NaN  \n",
       "160  64.000000  64.000000  63.900002          NaN  \n",
       "161  60.000000  62.599998  61.500000          NaN  \n",
       "162  41.200001  41.400002  41.599998          NaN  \n",
       "163  43.700001  43.500000  42.799999          NaN  \n",
       "164  58.400002  58.200001  58.500000          NaN  \n",
       "165  83.099998  83.099998  83.199997          NaN  \n",
       "166  53.599998  53.799999  54.400002          NaN  \n",
       "167  75.199997  75.000000  75.199997          NaN  \n",
       "168  59.400002  59.400002  59.299999          NaN  \n",
       "169  62.200001  62.599998  62.299999          NaN  \n",
       "170  56.799999  56.700001  57.500000          NaN  \n",
       "171  56.099998  56.500000  57.500000          NaN  \n",
       "172  56.799999  59.700001  59.900002          NaN  \n",
       "173  71.400002  71.199997  71.000000          NaN  \n",
       "174  31.400000  31.600000  32.000000          NaN  \n",
       "175  39.000000  39.099998  39.000000          NaN  \n",
       "176  60.799999  60.799999  61.000000          NaN  \n",
       "177  67.199997  66.900002  66.800003          NaN  \n",
       "178        NaN        NaN        NaN          NaN  \n",
       "\n",
       "[179 rows x 19 columns]"
      ]
     },
     "execution_count": 75,
     "metadata": {},
     "output_type": "execute_result"
    }
   ],
   "source": [
    "employment"
   ]
  },
  {
   "cell_type": "code",
   "execution_count": 79,
   "metadata": {
    "collapsed": false
   },
   "outputs": [],
   "source": [
    "employment_us = employment.loc['United States']"
   ]
  },
  {
   "cell_type": "code",
   "execution_count": 80,
   "metadata": {
    "collapsed": false
   },
   "outputs": [
    {
     "data": {
      "text/plain": [
       "array(['Afghanistan', 'Albania', 'Algeria', 'Angola', 'Argentina',\n",
       "       'Armenia', 'Australia', 'Austria', 'Azerbaijan', 'Bahamas',\n",
       "       'Bahrain', 'Bangladesh', 'Barbados', 'Belarus', 'Belgium', 'Belize',\n",
       "       'Benin', 'Bhutan', 'Bolivia', 'Bosnia and Herzegovina', 'Botswana',\n",
       "       'Brazil', 'Brunei', 'Bulgaria', 'Burkina Faso', 'Burundi',\n",
       "       'Cambodia', 'Cameroon', 'Canada', 'Cape Verde',\n",
       "       'Central African Rep.', 'Chad', 'Chile', 'China', 'Colombia',\n",
       "       'Comoros', 'Congo, Rep.', 'Congo, Dem. Rep.', 'Costa Rica',\n",
       "       \"Cote d'Ivoire\", 'Croatia', 'Cuba', 'Cyprus', 'Czech Rep.',\n",
       "       'Denmark', 'Dominican Rep.', 'Timor-Leste', 'Ecuador', 'Egypt',\n",
       "       'El Salvador', 'Equatorial Guinea', 'Eritrea', 'Estonia',\n",
       "       'Ethiopia', 'Fiji', 'Finland', 'France', 'Gabon', 'Gambia',\n",
       "       'Georgia', 'Germany', 'Ghana', 'Greece', 'Guadeloupe', 'Guatemala',\n",
       "       'Guinea', 'Guinea-Bissau', 'Guyana', 'Haiti', 'Honduras',\n",
       "       'Hong Kong, China', 'Hungary', 'Iceland', 'India', 'Indonesia',\n",
       "       'Iran', 'Iraq', 'Ireland', 'Israel', 'Italy', 'Jamaica', 'Japan',\n",
       "       'Jordan', 'Kazakhstan', 'Kenya', 'Korea, Dem. Rep.', 'Korea, Rep.',\n",
       "       'Kuwait', 'Kyrgyzstan', 'Laos', 'Latvia', 'Lebanon', 'Lesotho',\n",
       "       'Liberia', 'Libya', 'Lithuania', 'Luxembourg', 'Macao, China',\n",
       "       'Madagascar', 'Malawi', 'Malaysia', 'Maldives', 'Mali', 'Malta',\n",
       "       'Martinique', 'Mauritania', 'Mauritius', 'Mexico', 'Mongolia',\n",
       "       'Morocco', 'Mozambique', 'Myanmar', 'Namibia', 'Nepal',\n",
       "       'Netherlands', 'Netherlands Antilles', 'New Zealand', 'Nicaragua',\n",
       "       'Niger', 'Nigeria', 'Norway', 'Oman', 'Pakistan', 'Panama',\n",
       "       'Papua New Guinea', 'Paraguay', 'Peru', 'Philippines', 'Poland',\n",
       "       'Portugal', 'Puerto Rico', 'Qatar', 'Moldova', 'Reunion', 'Romania',\n",
       "       'Russia', 'Rwanda', 'Saudi Arabia', 'Senegal',\n",
       "       'Serbia and Montenegro', 'Sierra Leone', 'Singapore',\n",
       "       'Slovak Republic', 'Slovenia', 'Solomon Islands', 'Somalia',\n",
       "       'South Africa', 'Spain', 'Sri Lanka', 'Sudan', 'Suriname',\n",
       "       'Swaziland', 'Sweden', 'Switzerland', 'Syria', 'Taiwan',\n",
       "       'Tajikistan', 'Tanzania', 'Thailand', 'Macedonia, FYR', 'Togo',\n",
       "       'Trinidad and Tobago', 'Tunisia', 'Turkey', 'Turkmenistan',\n",
       "       'Uganda', 'Ukraine', 'United Arab Emirates', 'United Kingdom',\n",
       "       'United States', 'Uruguay', 'Uzbekistan', 'Venezuela', 'Vietnam',\n",
       "       'West Bank and Gaza', 'Yemen, Rep.', 'Zambia', 'Zimbabwe'], dtype=object)"
      ]
     },
     "execution_count": 80,
     "metadata": {},
     "output_type": "execute_result"
    }
   ],
   "source": [
    "employment.index.values"
   ]
  },
  {
   "cell_type": "code",
   "execution_count": 81,
   "metadata": {
    "collapsed": false
   },
   "outputs": [
    {
     "data": {
      "text/plain": [
       "1991    61.299999\n",
       "1992    61.099998\n",
       "1993    61.400002\n",
       "1994    62.200001\n",
       "1995    62.599998\n",
       "1996    62.900002\n",
       "1997    63.400002\n",
       "1998    63.799999\n",
       "1999    64.000000\n",
       "2000    64.199997\n",
       "2001    63.299999\n",
       "2002    62.299999\n",
       "2003    61.799999\n",
       "2004    61.799999\n",
       "2005    62.200001\n",
       "2006    62.599998\n",
       "2007    62.299999\n",
       "Name: United States, dtype: float64"
      ]
     },
     "execution_count": 81,
     "metadata": {},
     "output_type": "execute_result"
    }
   ],
   "source": [
    "employment_us"
   ]
  },
  {
   "cell_type": "code",
   "execution_count": 83,
   "metadata": {
    "collapsed": false
   },
   "outputs": [],
   "source": [
    "female_completion = pd.read_csv('female_completion_rate.csv', index_col='Country')"
   ]
  },
  {
   "cell_type": "code",
   "execution_count": 85,
   "metadata": {
    "collapsed": false
   },
   "outputs": [
    {
     "data": {
      "text/plain": [
       "array(['Abkhazia', 'Afghanistan', 'Akrotiri and Dhekelia', 'Albania',\n",
       "       'Algeria', 'American Samoa', 'Andorra', 'Angola', 'Anguilla',\n",
       "       'Antigua and Barbuda', 'Argentina', 'Armenia', 'Aruba', 'Australia',\n",
       "       'Austria', 'Azerbaijan', 'Bahamas', 'Bahrain', 'Bangladesh',\n",
       "       'Barbados', 'Belarus', 'Belgium', 'Belize', 'Benin', 'Bermuda',\n",
       "       'Bhutan', 'Bolivia', 'Bosnia and Herzegovina', 'Botswana', 'Brazil',\n",
       "       'British Virgin Islands', 'Brunei', 'Bulgaria', 'Burkina Faso',\n",
       "       'Burundi', 'Cambodia', 'Cameroon', 'Canada', 'Cape Verde',\n",
       "       'Cayman Islands', 'Central African Republic', 'Chad',\n",
       "       'Channel Islands', 'Chile', 'China', 'Christmas Island',\n",
       "       'Cocos Island', 'Colombia', 'Comoros', 'Congo, Dem. Rep.',\n",
       "       'Congo, Rep.', 'Cook Is', 'Costa Rica', \"Cote d'Ivoire\", 'Croatia',\n",
       "       'Cuba', 'Cyprus', 'Czech Republic', 'Czechoslovakia', 'Denmark',\n",
       "       'Djibouti', 'Dominica', 'Dominican Republic', 'East Germany',\n",
       "       'Ecuador', 'Egypt', 'El Salvador', 'Equatorial Guinea', 'Eritrea',\n",
       "       'Eritrea and Ethiopia', 'Estonia', 'Ethiopia', 'Faeroe Islands',\n",
       "       'Falkland Is (Malvinas)', 'Fiji', 'Finland', 'France',\n",
       "       'French Guiana', 'French Polynesia', 'Gabon', 'Gambia', 'Georgia',\n",
       "       'Germany', 'Ghana', 'Gibraltar', 'Greece', 'Greenland', 'Grenada',\n",
       "       'Guadeloupe', 'Guam', 'Guatemala', 'Guernsey', 'Guinea',\n",
       "       'Guinea-Bissau', 'Guyana', 'Haiti', 'Holy See', 'Honduras',\n",
       "       'Hong Kong, China', 'Hungary', 'Iceland', 'India', 'Indonesia',\n",
       "       'Iran', 'Iraq', 'Ireland', 'Isle of Man', 'Israel', 'Italy',\n",
       "       'Jamaica', 'Japan', 'Jersey', 'Jordan', 'Kazakhstan', 'Kenya',\n",
       "       'Kiribati', 'North Korea', 'South Korea', 'United Korea (former)',\n",
       "       'Kosovo', 'Kuwait', 'Kyrgyz Republic', 'Lao', 'Latvia', 'Lebanon',\n",
       "       'Lesotho', 'Liberia', 'Libya', 'Liechtenstein', 'Lithuania',\n",
       "       'Luxembourg', 'Macao, China', 'Macedonia, FYR', 'Madagascar',\n",
       "       'Malawi', 'Malaysia', 'Maldives', 'Mali', 'Malta',\n",
       "       'Marshall Islands', 'Martinique', 'Mauritania', 'Mauritius',\n",
       "       'Mayotte', 'Mexico', 'Micronesia, Fed. Sts.', 'Moldova', 'Monaco',\n",
       "       'Mongolia', 'Montenegro', 'Montserrat', 'Morocco', 'Mozambique',\n",
       "       'Myanmar', 'Namibia', 'Nauru', 'Nepal', 'Netherlands',\n",
       "       'Netherlands Antilles', 'New Caledonia', 'New Zealand',\n",
       "       'Ngorno-Karabakh', 'Nicaragua', 'Niger', 'Nigeria', 'Niue',\n",
       "       'Norfolk Island', 'Northern Cyprus', 'Northern Mariana Islands',\n",
       "       'Norway', 'Oman', 'Pakistan', 'Palau', 'Panama', 'Papua New Guinea',\n",
       "       'Paraguay', 'Peru', 'Philippines', 'Pitcairn', 'Poland', 'Portugal',\n",
       "       'Puerto Rico', 'Qatar', 'Reunion', 'Romania', 'Russia', 'Rwanda',\n",
       "       'St. Barth\\xc3\\xa9lemy', 'St. Helena', 'St. Kitts and Nevis',\n",
       "       'St. Lucia', 'St. Martin', 'St. Vincent and the Grenadines',\n",
       "       'St.-Pierre-et-Miquelon', 'Samoa', 'San Marino',\n",
       "       'Sao Tome and Principe', 'Saudi Arabia', 'Senegal', 'Serbia',\n",
       "       'Serbia and Montenegro', 'Serbia excluding Kosovo', 'Seychelles',\n",
       "       'Sierra Leone', 'Singapore', 'Slovak Republic', 'Slovenia',\n",
       "       'Solomon Islands', 'Somalia', 'Somaliland', 'South Africa',\n",
       "       'South Ossetia', 'Spain', 'Sri Lanka', 'Sudan', 'Suriname',\n",
       "       'Svalbard', 'Swaziland', 'Sweden', 'Switzerland', 'Syria', 'Taiwan',\n",
       "       'Tajikistan', 'Tanzania', 'Thailand', 'Timor-Leste', 'Togo',\n",
       "       'Tokelau', 'Tonga', 'Transnistria', 'Trinidad and Tobago',\n",
       "       'Tunisia', 'Turkey', 'Turkmenistan', 'Turks and Caicos Islands',\n",
       "       'Tuvalu', 'Uganda', 'Ukraine', 'United Arab Emirates',\n",
       "       'United Kingdom', 'United States', 'Uruguay', 'USSR', 'Uzbekistan',\n",
       "       'Wallis et Futuna', 'Vanuatu', 'Venezuela', 'West Bank and Gaza',\n",
       "       'West Germany', 'Western Sahara', 'Vietnam',\n",
       "       'Virgin Islands (U.S.)', 'North Yemen (former)',\n",
       "       'South Yemen (former)', 'Yemen', 'Yugoslavia', 'Zambia', 'Zimbabwe',\n",
       "       '\\xc3\\x85land', 'South Sudan', 'Christian', 'Coastline',\n",
       "       'Cura\\xc3\\xa7ao', 'Sint Maarten (Dutch part)',\n",
       "       'St. Martin (French part)', 'Antarctica', 'Virgin Islands, British',\n",
       "       'Hawaiian Trade Zone', 'U.S. Pacific Islands', 'Wake Island',\n",
       "       'Bonaire', 'Sark', 'Chinese Taipei', 'Saint Eustatius', 'Saba'], dtype=object)"
      ]
     },
     "execution_count": 85,
     "metadata": {},
     "output_type": "execute_result"
    }
   ],
   "source": [
    "female_completion.index.values"
   ]
  },
  {
   "cell_type": "code",
   "execution_count": 87,
   "metadata": {
    "collapsed": false
   },
   "outputs": [],
   "source": [
    "female_completion_us = female_completion.loc['United States']"
   ]
  },
  {
   "cell_type": "code",
   "execution_count": 88,
   "metadata": {
    "collapsed": false
   },
   "outputs": [
    {
     "data": {
      "text/plain": [
       "1970          NaN\n",
       "1971          NaN\n",
       "1972          NaN\n",
       "1973          NaN\n",
       "1974          NaN\n",
       "1975          NaN\n",
       "1976          NaN\n",
       "1977          NaN\n",
       "1978          NaN\n",
       "1979          NaN\n",
       "1980          NaN\n",
       "1981          NaN\n",
       "1982          NaN\n",
       "1983          NaN\n",
       "1984          NaN\n",
       "1985          NaN\n",
       "1986          NaN\n",
       "1987          NaN\n",
       "1988          NaN\n",
       "1989          NaN\n",
       "1990          NaN\n",
       "1991          NaN\n",
       "1992          NaN\n",
       "1993          NaN\n",
       "1994          NaN\n",
       "1995          NaN\n",
       "1996          NaN\n",
       "1997          NaN\n",
       "1998    103.01365\n",
       "1999    102.05438\n",
       "2000     98.64533\n",
       "2001    101.04295\n",
       "2002    102.61931\n",
       "2003    103.75253\n",
       "2004    100.26424\n",
       "2005     96.14198\n",
       "2006     99.09253\n",
       "2007    101.44458\n",
       "2008    102.04852\n",
       "2009     99.53498\n",
       "2010    103.99037\n",
       "2011          NaN\n",
       "Name: United States, dtype: float64"
      ]
     },
     "execution_count": 88,
     "metadata": {},
     "output_type": "execute_result"
    }
   ],
   "source": [
    "female_completion_us"
   ]
  },
  {
   "cell_type": "code",
   "execution_count": 90,
   "metadata": {
    "collapsed": false
   },
   "outputs": [],
   "source": [
    "male_completion = pd.read_csv('male_completion_rate.csv', index_col='Country')\n",
    "life_expectancy = pd.read_csv('life_expectancy.csv', index_col='Country')\n",
    "gdp = pd.read_csv('gdp_per_capita.csv', index_col='Country')"
   ]
  },
  {
   "cell_type": "code",
   "execution_count": 91,
   "metadata": {
    "collapsed": true
   },
   "outputs": [],
   "source": [
    "male_completion_us = male_completion.loc['United States']\n",
    "life_expectancy_us = life_expectancy.loc['United States']\n",
    "gdp_us = gdp.loc['United States']"
   ]
  },
  {
   "cell_type": "code",
   "execution_count": 93,
   "metadata": {
    "collapsed": false
   },
   "outputs": [
    {
     "name": "stdout",
     "output_type": "stream",
     "text": [
      "Populating the interactive namespace from numpy and matplotlib\n"
     ]
    },
    {
     "name": "stderr",
     "output_type": "stream",
     "text": [
      "WARNING: pylab import has clobbered these variables: ['pylab']\n",
      "`%matplotlib` prevents importing * from pylab and numpy\n"
     ]
    }
   ],
   "source": [
    "import pylab\n",
    "%pylab inline\n",
    "employment_us = employment.loc['United States']\n",
    "female_completion_us = female_completion.loc['United States']\n",
    "male_completion_us = male_completion.loc['United States']\n",
    "life_expectancy_us = life_expectancy.loc['United States']\n",
    "gdp_us = gdp.loc['United States']"
   ]
  },
  {
   "cell_type": "code",
   "execution_count": 94,
   "metadata": {
    "collapsed": false
   },
   "outputs": [
    {
     "data": {
      "text/plain": [
       "<matplotlib.axes._subplots.AxesSubplot at 0xc1b1c50>"
      ]
     },
     "execution_count": 94,
     "metadata": {},
     "output_type": "execute_result"
    },
    {
     "data": {
      "image/png": "[encoded data removed]",
      "text/plain": [
       "<matplotlib.figure.Figure at 0xc1b1080>"
      ]
     },
     "metadata": {},
     "output_type": "display_data"
    }
   ],
   "source": [
    "employment_us.plot()"
   ]
  },
  {
   "cell_type": "code",
   "execution_count": 95,
   "metadata": {
    "collapsed": false
   },
   "outputs": [
    {
     "data": {
      "text/plain": [
       "<matplotlib.axes._subplots.AxesSubplot at 0xc3e1080>"
      ]
     },
     "execution_count": 95,
     "metadata": {},
     "output_type": "execute_result"
    },
    {
     "data": {
      "image/png": "[encoded data removed]",
      "text/plain": [
       "<matplotlib.figure.Figure at 0xc433e80>"
      ]
     },
     "metadata": {},
     "output_type": "display_data"
    }
   ],
   "source": [
    "female_completion_us.plot()"
   ]
  },
  {
   "cell_type": "code",
   "execution_count": 96,
   "metadata": {
    "collapsed": false
   },
   "outputs": [
    {
     "data": {
      "text/plain": [
       "<matplotlib.axes._subplots.AxesSubplot at 0xc4a9198>"
      ]
     },
     "execution_count": 96,
     "metadata": {},
     "output_type": "execute_result"
    },
    {
     "data": {
      "image/png": "[encoded data removed]",
      "text/plain": [
       "<matplotlib.figure.Figure at 0xcb4fb00>"
      ]
     },
     "metadata": {},
     "output_type": "display_data"
    }
   ],
   "source": [
    "male_completion_us.plot()"
   ]
  },
  {
   "cell_type": "code",
   "execution_count": 97,
   "metadata": {
    "collapsed": false
   },
   "outputs": [
    {
     "data": {
      "text/plain": [
       "<matplotlib.axes._subplots.AxesSubplot at 0xc3b9ef0>"
      ]
     },
     "execution_count": 97,
     "metadata": {},
     "output_type": "execute_result"
    },
    {
     "data": {
      "image/png": "[encoded data removed]",
      "text/plain": [
       "<matplotlib.figure.Figure at 0xcd82978>"
      ]
     },
     "metadata": {},
     "output_type": "display_data"
    }
   ],
   "source": [
    "life_expectancy_us.plot()"
   ]
  },
  {
   "cell_type": "code",
   "execution_count": 98,
   "metadata": {
    "collapsed": false
   },
   "outputs": [
    {
     "data": {
      "text/plain": [
       "<matplotlib.axes._subplots.AxesSubplot at 0xcf38f60>"
      ]
     },
     "execution_count": 98,
     "metadata": {},
     "output_type": "execute_result"
    },
    {
     "data": {
      "image/png": "[encoded data removed]",
      "text/plain": [
       "<matplotlib.figure.Figure at 0xcf43278>"
      ]
     },
     "metadata": {},
     "output_type": "display_data"
    }
   ],
   "source": [
    "gdp_us.plot()"
   ]
  },
  {
   "cell_type": "code",
   "execution_count": null,
   "metadata": {
    "collapsed": true
   },
   "outputs": [],
   "source": []
  }
 ],
 "metadata": {
  "kernelspec": {
   "display_name": "Python 2",
   "language": "python",
   "name": "python2"
  },
  "language_info": {
   "codemirror_mode": {
    "name": "ipython",
    "version": 2
   },
   "file_extension": ".py",
   "mimetype": "text/x-python",
   "name": "python",
   "nbconvert_exporter": "python",
   "pygments_lexer": "ipython2",
   "version": "2.7.10"
  }
 },
 "nbformat": 4,
 "nbformat_minor": 0
}
